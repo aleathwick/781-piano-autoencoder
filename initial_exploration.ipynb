{
 "cells": [
  {
   "cell_type": "code",
   "execution_count": 1,
   "metadata": {},
   "outputs": [],
   "source": [
    "from importlib import reload\n",
    "import numpy as np\n",
    "import os\n",
    "from scipy.sparse import csc_matrix, csr_matrix\n",
    "import pickle\n",
    "import pretty_midi\n",
    "import sys\n",
    "import copy\n",
    "from collections import namedtuple\n",
    "import timeit\n",
    "import tensorflow as tf"
   ]
  },
  {
   "cell_type": "code",
   "execution_count": 63,
   "metadata": {},
   "outputs": [
    {
     "data": {
      "text/plain": [
       "<module 'src.ml_classes' from 'C:\\\\Users\\\\Andrew\\\\Documents\\\\mlprojects\\\\781-piano-autoencoder\\\\src\\\\ml_classes.py'>"
      ]
     },
     "execution_count": 63,
     "metadata": {},
     "output_type": "execute_result"
    }
   ],
   "source": [
    "# import modules, including a reload statement so that they can be reimported after a change to the methods \n",
    "import src.midi_utils as midi_utils\n",
    "reload(midi_utils)\n",
    "\n",
    "import src.data as data\n",
    "reload(data)\n",
    "\n",
    "import src.models as models\n",
    "reload(models)\n",
    "\n",
    "import src.ml_classes as ml_classes\n",
    "reload(ml_classes)"
   ]
  },
  {
   "cell_type": "code",
   "execution_count": 41,
   "metadata": {},
   "outputs": [
    {
     "name": "stdout",
     "output_type": "stream",
     "text": [
      "0.26732860000265646\n",
      "0.14455119999911403\n"
     ]
    }
   ],
   "source": [
    "# two ways of transposing if they are integers indicating pitch, but dimensions are unknown\n",
    "int_transpose = np.vectorize(lambda x: min(max(x + semitones, 0), 87))\n",
    "def int_transpose1():\n",
    "    semitones = 2\n",
    "    b = np.array([[1,2,3],[3,4,5]])\n",
    "    b = int_transpose(b)\n",
    "\n",
    "# or like this:\n",
    "def int_transpose2():\n",
    "    semitones = 2\n",
    "    b = np.array([[1,2,3],[3,4,5]])\n",
    "    for idx,value in np.ndenumerate(b):\n",
    "        b[idx] = min(max(value + semitones, 0), 87)\n",
    "    \n",
    "print(timeit.timeit(int_transpose1, number=10000))\n",
    "print(timeit.timeit(int_transpose2, number=10000))"
   ]
  },
  {
   "cell_type": "code",
   "execution_count": 112,
   "metadata": {},
   "outputs": [],
   "source": [
    "with open('H2', 'wb') as f:\n",
    "    pickle.dump(H, f)"
   ]
  },
  {
   "cell_type": "code",
   "execution_count": 72,
   "metadata": {},
   "outputs": [],
   "source": [
    "# and back to pretty midi...\n",
    "def H2pm(H, O, V, tempo, sub_beat_times):\n",
    "    beat_length = 60 / tempo\n",
    "    sub_beat_length = beat_length / sub_beats\n",
    "    pm = pretty_midi.PrettyMIDI(resolution=960, tempo=tempo)\n",
    "    pm.instruments.append(pretty_midi.Instrument(0, name='piano'))\n",
    "    for timestep in range(len(H)):\n",
    "        for pitch in H(timestep):\n",
    "            noteM = pretty_midi.Note(64, pitch + 21, sub_beat_times[timestep], end)\n",
    "            pm.instruments[0].notes.append(noteM)"
   ]
  },
  {
   "cell_type": "code",
   "execution_count": null,
   "metadata": {},
   "outputs": [],
   "source": [
    "dg = ml_classes.ModelDataGenerator(model_datas, ['H', 'tempo', 'key'], ['H', 'V'], batch_size = 4, seq_length=seq_length)\n",
    "dg.__getitem__(2)"
   ]
  },
  {
   "cell_type": "code",
   "execution_count": 98,
   "metadata": {},
   "outputs": [
    {
     "data": {
      "text/plain": [
       "129.2266845703125"
      ]
     },
     "execution_count": 98,
     "metadata": {},
     "output_type": "execute_result"
    }
   ],
   "source": [
    "m = np.zeros((64,88)\n",
    "sys.getsizeof(m)/1024/1024 * 5*60*10 # 5 training examplems per minute"
   ]
  },
  {
   "cell_type": "code",
   "execution_count": 105,
   "metadata": {},
   "outputs": [
    {
     "data": {
      "text/plain": [
       "0.54931640625"
      ]
     },
     "execution_count": 105,
     "metadata": {},
     "output_type": "execute_result"
    }
   ],
   "source": [
    "sys.getsizeof(H)/1024/1024 * 5*60*10 # 5 training examplems per minute"
   ]
  },
  {
   "cell_type": "code",
   "execution_count": 120,
   "metadata": {},
   "outputs": [
    {
     "data": {
      "text/plain": [
       "16896.140625"
      ]
     },
     "execution_count": 120,
     "metadata": {},
     "output_type": "execute_result"
    }
   ],
   "source": [
    "sys.getsizeof(np.zeros((3,128,64,88), dtype=np.int64))/1024"
   ]
  },
  {
   "cell_type": "code",
   "execution_count": 68,
   "metadata": {},
   "outputs": [
    {
     "name": "stdout",
     "output_type": "stream",
     "text": [
      " \n",
      "<DirEntry 'aa_97_Cm.mid'>\n",
      "examples: 16\n",
      "sub beats per example: 64\n",
      "no. of sub beats: 1024\n",
      " \n",
      "<DirEntry 'ab_108_Eb.mid'>\n",
      "examples: 9\n",
      "sub beats per example: 64\n",
      "no. of sub beats: 576\n",
      " \n",
      "<DirEntry 'ac_82_Ebm.mid'>\n",
      "examples: 16\n",
      "sub beats per example: 64\n",
      "no. of sub beats: 1024\n",
      " \n",
      "<DirEntry 'ad_63_Am.mid'>\n",
      "examples: 14\n",
      "sub beats per example: 64\n",
      "no. of sub beats: 896\n",
      " \n",
      "<DirEntry 'ae_78_Am.mid'>\n",
      "examples: 35\n",
      "sub beats per example: 64\n",
      "no. of sub beats: 2240\n",
      " \n",
      "<DirEntry 'af_94_Bm.mid'>\n",
      "examples: 27\n",
      "sub beats per example: 64\n",
      "no. of sub beats: 1728\n",
      " \n",
      "<DirEntry 'ag_65_Gm.mid'>\n",
      "examples: 17\n",
      "sub beats per example: 64\n",
      "no. of sub beats: 1088\n",
      " \n",
      "<DirEntry 'ah_104_Bm.mid'>\n",
      "examples: 12\n",
      "sub beats per example: 64\n",
      "no. of sub beats: 768\n",
      " \n",
      "<DirEntry 'ai_79_D.mid'>\n",
      "examples: 14\n",
      "sub beats per example: 64\n",
      "no. of sub beats: 896\n",
      " \n",
      "<DirEntry 'aj_107_Em.mid'>\n",
      "examples: 6\n",
      "sub beats per example: 64\n",
      "no. of sub beats: 384\n",
      " \n",
      "<DirEntry 'ak_107_Ebm.mid'>\n",
      "examples: 77\n",
      "sub beats per example: 64\n",
      "no. of sub beats: 4928\n",
      " \n",
      "<DirEntry 'al_110_Ebm.mid'>\n",
      "examples: 40\n",
      "sub beats per example: 64\n",
      "no. of sub beats: 2560\n",
      " \n",
      "<DirEntry 'am_108_Em.mid'>\n",
      "examples: 18\n",
      "sub beats per example: 64\n",
      "no. of sub beats: 1152\n",
      "[array([0., 0., 0., 1., 0., 0., 0., 0., 0., 0., 0., 0.]), array([0., 0., 0., 1., 0., 0., 0., 0., 0., 0., 0., 0.]), array([0., 0., 0., 1., 0., 0., 0., 0., 0., 0., 0., 0.]), array([0., 0., 0., 1., 0., 0., 0., 0., 0., 0., 0., 0.]), array([0., 0., 0., 1., 0., 0., 0., 0., 0., 0., 0., 0.]), array([0., 0., 0., 1., 0., 0., 0., 0., 0., 0., 0., 0.]), array([0., 0., 0., 1., 0., 0., 0., 0., 0., 0., 0., 0.]), array([0., 0., 0., 1., 0., 0., 0., 0., 0., 0., 0., 0.]), array([0., 0., 0., 1., 0., 0., 0., 0., 0., 0., 0., 0.]), array([0., 0., 0., 1., 0., 0., 0., 0., 0., 0., 0., 0.]), array([0., 0., 0., 1., 0., 0., 0., 0., 0., 0., 0., 0.]), array([0., 0., 0., 1., 0., 0., 0., 0., 0., 0., 0., 0.]), array([0., 0., 0., 1., 0., 0., 0., 0., 0., 0., 0., 0.]), array([0., 0., 0., 1., 0., 0., 0., 0., 0., 0., 0., 0.]), array([0., 0., 0., 1., 0., 0., 0., 0., 0., 0., 0., 0.]), array([0., 0., 0., 1., 0., 0., 0., 0., 0., 0., 0., 0.]), array([0., 0., 0., 1., 0., 0., 0., 0., 0., 0., 0., 0.]), array([0., 0., 0., 1., 0., 0., 0., 0., 0., 0., 0., 0.]), array([0., 0., 0., 1., 0., 0., 0., 0., 0., 0., 0., 0.]), array([0., 0., 0., 1., 0., 0., 0., 0., 0., 0., 0., 0.])]\n",
      "(64, 88)\n",
      "(64, 88)\n",
      "(64, 88)\n",
      "(12,)\n",
      "(1,)\n"
     ]
    }
   ],
   "source": [
    "model_datas = data.folder2examples('training_data\\midi_files', sparse=False)"
   ]
  },
  {
   "cell_type": "code",
   "execution_count": 65,
   "metadata": {},
   "outputs": [],
   "source": [
    "n_notes=88\n",
    "model_input = namedtuple('input', 'name dim')\n",
    "model_output = namedtuple('output', 'name dim activation')\n",
    "\n",
    "H_in = model_input('H', n_notes)\n",
    "tempo_in = model_input('tempo', 1)\n",
    "key_in = model_input('key', 12)\n",
    "\n",
    "H_out = model_output('H', n_notes, 'sigmoid')\n",
    "O_out = model_output('O', n_notes, 'tanh')\n",
    "V_out = model_output('V', n_notes, 'sigmoid')"
   ]
  },
  {
   "cell_type": "code",
   "execution_count": 66,
   "metadata": {},
   "outputs": [
    {
     "name": "stdout",
     "output_type": "stream",
     "text": [
      "Model: \"autoencoder\"\n",
      "__________________________________________________________________________________________________\n",
      "Layer (type)                    Output Shape         Param #     Connected to                     \n",
      "==================================================================================================\n",
      "tempo_in (InputLayer)           [(None, 1)]          0                                            \n",
      "__________________________________________________________________________________________________\n",
      "key_in (InputLayer)             [(None, 12)]         0                                            \n",
      "__________________________________________________________________________________________________\n",
      "H_in (InputLayer)               [(None, 64, 88)]     0                                            \n",
      "__________________________________________________________________________________________________\n",
      "repeat64Times (RepeatVector)    multiple             0           tempo_in[0][0]                   \n",
      "                                                                 key_in[0][0]                     \n",
      "__________________________________________________________________________________________________\n",
      "joinModelInput (Concatenate)    (None, 64, 101)      0           H_in[0][0]                       \n",
      "                                                                 repeat64Times[0][0]              \n",
      "                                                                 repeat64Times[1][0]              \n",
      "__________________________________________________________________________________________________\n",
      "bidirectional_32 (Bidirectional (None, 64, 32)       15104       joinModelInput[0][0]             \n",
      "__________________________________________________________________________________________________\n",
      "bidirectional_33 (Bidirectional (None, 32)           6272        bidirectional_32[0][0]           \n",
      "__________________________________________________________________________________________________\n",
      "dense_16 (Dense)                (None, 16)           528         bidirectional_33[0][0]           \n",
      "__________________________________________________________________________________________________\n",
      "z (Dense)                       (None, 16)           272         dense_16[0][0]                   \n",
      "__________________________________________________________________________________________________\n",
      "dense_17 (Dense)                (None, 16)           272         z[0][0]                          \n",
      "__________________________________________________________________________________________________\n",
      "repeat_vector_8 (RepeatVector)  (None, 64, 16)       0           dense_17[0][0]                   \n",
      "__________________________________________________________________________________________________\n",
      "bidirectional_34 (Bidirectional (None, 64, 32)       4224        repeat_vector_8[0][0]            \n",
      "__________________________________________________________________________________________________\n",
      "bidirectional_35 (Bidirectional (None, 64, 32)       6272        bidirectional_34[0][0]           \n",
      "__________________________________________________________________________________________________\n",
      "lstm_44 (LSTM)                  (None, 64, 16)       3136        bidirectional_35[0][0]           \n",
      "__________________________________________________________________________________________________\n",
      "H_out (TimeDistributed)         (None, 64, 88)       1496        lstm_44[0][0]                    \n",
      "__________________________________________________________________________________________________\n",
      "V_out (TimeDistributed)         (None, 64, 88)       1496        lstm_44[0][0]                    \n",
      "==================================================================================================\n",
      "Total params: 39,072\n",
      "Trainable params: 39,072\n",
      "Non-trainable params: 0\n",
      "__________________________________________________________________________________________________\n"
     ]
    }
   ],
   "source": [
    "seq_length = 64\n",
    "seq_inputs = [H_in]\n",
    "aux_inputs = [tempo_in, key_in]\n",
    "\n",
    "seq_inputs = [tf.keras.Input(shape=(seq_length,seq_in.dim), name=seq_in.name + '_in') for seq_in in seq_inputs]\n",
    "aux_inputs = [tf.keras.Input(shape=(aux_in.dim,), name=aux_in.name + '_in') for aux_in in aux_inputs]\n",
    "\n",
    "z = models.create_LSTMencoder(seq_inputs, aux_inputs, seq_length=seq_length, lstm_layers = 2, dense_layers = 2, hidden_state_size = 16, latent_size = 16,\n",
    "                    dense_size = 16)\n",
    "outputs = models.create_LSTMdecoder(z, [H_out, V_out], seq_length=seq_length, hidden_state_size = 16,\n",
    "                    dense_size = 16)\n",
    "model = tf.keras.Model(inputs=[seq_inputs + aux_inputs], outputs=outputs, name=f'autoencoder')\n",
    "model.summary()"
   ]
  },
  {
   "cell_type": "code",
   "execution_count": 52,
   "metadata": {},
   "outputs": [
    {
     "data": {
      "image/png": "[encoded data removed]",
      "text/plain": [
       "<IPython.core.display.Image object>"
      ]
     },
     "execution_count": 52,
     "metadata": {},
     "output_type": "execute_result"
    }
   ],
   "source": [
    "tf.keras.utils.plot_model(model)"
   ]
  },
  {
   "cell_type": "code",
   "execution_count": null,
   "metadata": {},
   "outputs": [],
   "source": [
    "dg = ml_classes.ModelDataGenerator(model_datas, ['H', 'tempo', 'key'], ['H', 'V'], batch_size = 4, seq_length=seq_length)\n",
    "model.compile(optimizer='adam', loss='categorical_crossentropy', metrics=['accuracy'])\n",
    "\n",
    "# fit the model\n",
    "# key is not working.\n",
    "history = model.fit_generator(dg, epochs=3, verbose=1)\n",
    "# model.fit([model_datas2['H'], model_datas['tempo']],[model_datas['H'], model_datas['V']], epochs=3)\n"
   ]
  },
  {
   "cell_type": "code",
   "execution_count": 43,
   "metadata": {},
   "outputs": [],
   "source": [
    "# if model_datas aren't sparse, then this works \n",
    "model_datas2 = {md.name + '_in': md.data for md in model_datas}\n",
    "model_datas2.update({md.name + '_out': md.data for md in model_datas})\n",
    "model.fit(model_datas2, model_datas2, epochs=30)"
   ]
  },
  {
   "cell_type": "code",
   "execution_count": 62,
   "metadata": {},
   "outputs": [
    {
     "data": {
      "text/plain": [
       "(2,)"
      ]
     },
     "execution_count": 62,
     "metadata": {},
     "output_type": "execute_result"
    }
   ],
   "source": [
    "tuple([2])"
   ]
  }
 ],
 "metadata": {
  "kernelspec": {
   "display_name": "Python 3.7.1 64-bit ('base': conda)",
   "language": "python",
   "name": "python37164bitbasecondae3e7ccf567c04673a097ad97a01807b4"
  },
  "language_info": {
   "codemirror_mode": {
    "name": "ipython",
    "version": 3
   },
   "file_extension": ".py",
   "mimetype": "text/x-python",
   "name": "python",
   "nbconvert_exporter": "python",
   "pygments_lexer": "ipython3",
   "version": "3.7.1"
  }
 },
 "nbformat": 4,
 "nbformat_minor": 2
}
