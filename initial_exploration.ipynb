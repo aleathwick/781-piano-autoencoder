{
 "cells": [
  {
   "cell_type": "code",
   "execution_count": 158,
   "metadata": {},
   "outputs": [],
   "source": [
    "from importlib import reload\n",
    "import numpy as np\n",
    "from scipy.sparse import csc_matrix\n",
    "import pickle\n",
    "import pretty_midi\n",
    "import sys\n",
    "import copy\n",
    "import tensorflow as tf"
   ]
  },
  {
   "cell_type": "code",
   "execution_count": 154,
   "metadata": {},
   "outputs": [
    {
     "data": {
      "text/plain": [
       "<module 'src.ml_classes' from 'C:\\\\Users\\\\Andrew\\\\Documents\\\\mlprojects\\\\781-piano-autoencoder\\\\src\\\\ml_classes.py'>"
      ]
     },
     "execution_count": 154,
     "metadata": {},
     "output_type": "execute_result"
    }
   ],
   "source": [
    "# import modules, including a reload statement so that they can be reimported after a change to the methods \n",
    "import src.midi_utils as midi_utils\n",
    "reload(midi_utils)\n",
    "\n",
    "import src.data as data\n",
    "reload(data)\n",
    "\n",
    "import src.models as models\n",
    "reload(models)\n",
    "\n",
    "import src.ml_classes as ml_classes\n",
    "reload(ml_classes)"
   ]
  },
  {
   "cell_type": "code",
   "execution_count": 6,
   "metadata": {},
   "outputs": [],
   "source": [
    "# with open('without_tempo.mid') as f:\n",
    "pm = pretty_midi.PrettyMIDI('training_data/aa_97_Cm_a.mid')"
   ]
  },
  {
   "cell_type": "code",
   "execution_count": null,
   "metadata": {},
   "outputs": [],
   "source": [
    "print(pm.get_beats()[-1])\n",
    "print(sub_beat_times)"
   ]
  },
  {
   "cell_type": "code",
   "execution_count": 104,
   "metadata": {},
   "outputs": [
    {
     "name": "stdout",
     "output_type": "stream",
     "text": [
      "0.0\n"
     ]
    }
   ],
   "source": [
    "a = np.zeros((2,2,2))"
   ]
  },
  {
   "cell_type": "code",
   "execution_count": 134,
   "metadata": {},
   "outputs": [],
   "source": [
    "H, O, V = midi_utils.pm2H2(pm)\n",
    "# print(V)\n",
    "        \n",
    "    "
   ]
  },
  {
   "cell_type": "code",
   "execution_count": 112,
   "metadata": {},
   "outputs": [],
   "source": [
    "with open('H2', 'wb') as f:\n",
    "    pickle.dump(H, f)"
   ]
  },
  {
   "cell_type": "code",
   "execution_count": null,
   "metadata": {},
   "outputs": [],
   "source": [
    "# and back to pretty midi...\n",
    "def H2pm(H, O, V, tempo, sub_beat_times):\n",
    "    beat_length = 60 / tempo\n",
    "    sub_beat_length = beat_length / sub_beats\n",
    "    pm = pretty_midi.PrettyMIDI(resolution=960, tempo=tempo)\n",
    "    pm.instruments.append(pretty_midi.Instrument(0, name='piano'))\n",
    "    for timestep in range(len(H)):\n",
    "        for pitch in H(timestep):\n",
    "            noteM = pretty_midi.Note(64, pitch + 21, sub_beat_times[timestep], end)\n",
    "            pm.instruments[0].notes.append(noteM)"
   ]
  },
  {
   "cell_type": "code",
   "execution_count": 98,
   "metadata": {},
   "outputs": [
    {
     "data": {
      "text/plain": [
       "129.2266845703125"
      ]
     },
     "execution_count": 98,
     "metadata": {},
     "output_type": "execute_result"
    }
   ],
   "source": [
    "m = np.zeros((64,88))\n",
    "sys.getsizeof(m)/1024/1024 * 5*60*10 # 5 training examplems per minute"
   ]
  },
  {
   "cell_type": "code",
   "execution_count": 105,
   "metadata": {},
   "outputs": [
    {
     "data": {
      "text/plain": [
       "0.54931640625"
      ]
     },
     "execution_count": 105,
     "metadata": {},
     "output_type": "execute_result"
    }
   ],
   "source": [
    "sys.getsizeof(H)/1024/1024 * 5*60*10 # 5 training examplems per minute"
   ]
  },
  {
   "cell_type": "code",
   "execution_count": 120,
   "metadata": {},
   "outputs": [
    {
     "data": {
      "text/plain": [
       "16896.140625"
      ]
     },
     "execution_count": 120,
     "metadata": {},
     "output_type": "execute_result"
    }
   ],
   "source": [
    "sys.getsizeof(np.zeros((3,128,64,88), dtype=np.int64))/1024"
   ]
  },
  {
   "cell_type": "code",
   "execution_count": null,
   "metadata": {},
   "outputs": [],
   "source": [
    "pm2.get_onsets()"
   ]
  },
  {
   "cell_type": "code",
   "execution_count": null,
   "metadata": {},
   "outputs": [],
   "source": [
    "pm2.get_downbeats()[-20:]"
   ]
  },
  {
   "cell_type": "code",
   "execution_count": 155,
   "metadata": {},
   "outputs": [
    {
     "name": "stdout",
     "output_type": "stream",
     "text": [
      "Model: \"LSTM Encoder\"\n",
      "__________________________________________________________________________________________________\n",
      "Layer (type)                    Output Shape         Param #     Connected to                     \n",
      "==================================================================================================\n",
      "input_25 (InputLayer)           [(None, 32, 88)]     0                                            \n",
      "__________________________________________________________________________________________________\n",
      "input_26 (InputLayer)           [(None, 32, 1)]      0                                            \n",
      "__________________________________________________________________________________________________\n",
      "concatenate_11 (Concatenate)    (None, 32, 89)       0           input_25[0][0]                   \n",
      "                                                                 input_26[0][0]                   \n",
      "__________________________________________________________________________________________________\n",
      "bidirectional_40 (Bidirectional (None, 32, 512)      708608      concatenate_11[0][0]             \n",
      "__________________________________________________________________________________________________\n",
      "bidirectional_41 (Bidirectional (None, 32, 512)      1574912     bidirectional_40[0][0]           \n",
      "__________________________________________________________________________________________________\n",
      "bidirectional_42 (Bidirectional (None, 512)          1574912     bidirectional_41[0][0]           \n",
      "__________________________________________________________________________________________________\n",
      "dense_49 (Dense)                (None, 256)          131328      bidirectional_42[0][0]           \n",
      "__________________________________________________________________________________________________\n",
      "dense_50 (Dense)                (None, 256)          65792       dense_49[0][0]                   \n",
      "__________________________________________________________________________________________________\n",
      "dense_51 (Dense)                (None, 256)          65792       dense_50[0][0]                   \n",
      "__________________________________________________________________________________________________\n",
      "repeat_vector_5 (RepeatVector)  (None, 32, 256)      0           dense_51[0][0]                   \n",
      "__________________________________________________________________________________________________\n",
      "bidirectional_43 (Bidirectional (None, 32, 512)      1050624     repeat_vector_5[0][0]            \n",
      "__________________________________________________________________________________________________\n",
      "bidirectional_44 (Bidirectional (None, 32, 512)      1574912     bidirectional_43[0][0]           \n",
      "__________________________________________________________________________________________________\n",
      "lstm_50 (LSTM)                  (None, 32, 256)      787456      bidirectional_44[0][0]           \n",
      "__________________________________________________________________________________________________\n",
      "time_distributed_15 (TimeDistri (None, 32, 88)       22616       lstm_50[0][0]                    \n",
      "__________________________________________________________________________________________________\n",
      "time_distributed_16 (TimeDistri (None, 32, 88)       22616       lstm_50[0][0]                    \n",
      "__________________________________________________________________________________________________\n",
      "time_distributed_17 (TimeDistri (None, 32, 88)       22616       lstm_50[0][0]                    \n",
      "==================================================================================================\n",
      "Total params: 7,602,184\n",
      "Trainable params: 7,602,184\n",
      "Non-trainable params: 0\n",
      "__________________________________________________________________________________________________\n"
     ]
    }
   ],
   "source": [
    "inputs, z = models.create_LSTMencoder()\n",
    "H, O, V = models.create_LSTMdecoder(z)\n",
    "model = tf.keras.Model(inputs=inputs, outputs=[H,O,V], name=f'LSTM Encoder')\n",
    "model.summary()"
   ]
  },
  {
   "cell_type": "code",
   "execution_count": 168,
   "metadata": {},
   "outputs": [
    {
     "name": "stdout",
     "output_type": "stream",
     "text": [
      "Failed to import pydot. You must install pydot and graphviz for `pydotprint` to work.\n"
     ]
    }
   ],
   "source": [
    "tf.keras.utils.plot_model(model)"
   ]
  },
  {
   "cell_type": "code",
   "execution_count": 167,
   "metadata": {},
   "outputs": [
    {
     "data": {
      "text/plain": [
       "<module 'tensorflow.keras.utils' from 'C:\\\\Users\\\\Andrew\\\\AppData\\\\Local\\\\Continuum\\\\anaconda3\\\\lib\\\\site-packages\\\\tensorflow_core\\\\python\\\\keras\\\\api\\\\_v2\\\\keras\\\\utils\\\\__init__.py'>"
      ]
     },
     "execution_count": 167,
     "metadata": {},
     "output_type": "execute_result"
    }
   ],
   "source": [
    "reload(tf.keras.utils)"
   ]
  }
 ],
 "metadata": {
  "kernelspec": {
   "display_name": "Python 3.7.1 64-bit ('base': conda)",
   "language": "python",
   "name": "python37164bitbasecondae3e7ccf567c04673a097ad97a01807b4"
  },
  "language_info": {
   "codemirror_mode": {
    "name": "ipython",
    "version": 3
   },
   "file_extension": ".py",
   "mimetype": "text/x-python",
   "name": "python",
   "nbconvert_exporter": "python",
   "pygments_lexer": "ipython3",
   "version": "3.7.1"
  }
 },
 "nbformat": 4,
 "nbformat_minor": 2
}
