{
 "cells": [
  {
   "cell_type": "code",
   "execution_count": 1,
   "metadata": {},
   "outputs": [],
   "source": [
    "from importlib import reload\n",
    "import pymongo\n",
    "import gridfs\n",
    "import numpy as np\n",
    "import os\n",
    "os.environ['CUDA_VISIBLE_DEVICES'] = '-1'\n",
    "from scipy.sparse import csc_matrix, csr_matrix\n",
    "import pickle\n",
    "import pretty_midi\n",
    "import sys\n",
    "import copy\n",
    "from collections import namedtuple\n",
    "import timeit\n",
    "import matplotlib.pyplot as plt\n",
    "import tensorflow as tf\n",
    "from tensorflow.keras import layers\n",
    "import pandas as pd\n",
    "from IPython.display import clear_output\n",
    "from ipywidgets import interact, interactive, fixed, interact_manual\n",
    "import ipywidgets as widgets"
   ]
  },
  {
   "cell_type": "code",
   "execution_count": 2,
   "metadata": {},
   "outputs": [
    {
     "data": {
      "text/plain": [
       "<module 'src.losses' from '/storage/781-piano-autoencoder/src/losses.py'>"
      ]
     },
     "execution_count": 2,
     "metadata": {},
     "output_type": "execute_result"
    }
   ],
   "source": [
    "# import modules, including a reload statement so that they can be reimported after a change to the methods \n",
    "import src.midi_utils as midi_utils\n",
    "reload(midi_utils)\n",
    "\n",
    "import src.data as data\n",
    "reload(data)\n",
    "\n",
    "import src.models as models\n",
    "reload(models)\n",
    "\n",
    "import src.ml_classes as ml_classes\n",
    "reload(ml_classes)\n",
    "\n",
    "import src.exp_utils as exp_utils\n",
    "reload(exp_utils)\n",
    "\n",
    "import src.losses as losses\n",
    "reload(losses)"
   ]
  },
  {
   "cell_type": "code",
   "execution_count": 73,
   "metadata": {},
   "outputs": [],
   "source": [
    "tf.compat.v1.disable_eager_execution()"
   ]
  },
  {
   "cell_type": "code",
   "execution_count": 14,
   "metadata": {},
   "outputs": [],
   "source": [
    "run = 307\n",
    "client = pymongo.MongoClient()  # assuming a local MongoDB\n",
    "fs = gridfs.GridFS(client.sacred)  # assuming database name is 'sacred'\n",
    "runs = client.sacred.runs\n",
    "# Now get run from the database\n",
    "run_entry = runs.find_one({'_id': run})\n",
    "config = run_entry['config']"
   ]
  },
  {
   "cell_type": "code",
   "execution_count": 18,
   "metadata": {},
   "outputs": [
    {
     "name": "stderr",
     "output_type": "stream",
     "text": [
      "100%|██████████| 230/230 [01:13<00:00,  3.13it/s]\n"
     ]
    },
    {
     "name": "stdout",
     "output_type": "stream",
     "text": [
      "10h 47m 55s of data\n",
      "created model data H :    (32, 88) data shape,     4122 training examples\n",
      "created model data O :    (32, 88) data shape,     4122 training examples\n",
      "created model data V :    (32, 88) data shape,     4122 training examples\n",
      "created model data R :    (32, 88) data shape,     4122 training examples\n",
      "created model data S :    (32, 2) data shape,     4122 training examples\n",
      "created model data key :    (12,) data shape,     4122 training examples\n",
      "created model data tempo :    (1,) data shape,     4122 training examples\n"
     ]
    },
    {
     "name": "stderr",
     "output_type": "stream",
     "text": [
      "  8%|▊         | 1/12 [00:00<00:01,  7.82it/s]"
     ]
    },
    {
     "name": "stdout",
     "output_type": "stream",
     "text": [
      "created model data V_mean :    (1,) data shape,     4122 training examples\n"
     ]
    },
    {
     "name": "stderr",
     "output_type": "stream",
     "text": [
      "100%|██████████| 12/12 [00:03<00:00,  3.20it/s]"
     ]
    },
    {
     "name": "stdout",
     "output_type": "stream",
     "text": [
      "00h 38m 48s of data\n",
      "created model data H :    (32, 88) data shape,     250 training examples\n",
      "created model data O :    (32, 88) data shape,     250 training examples\n",
      "created model data V :    (32, 88) data shape,     250 training examples\n",
      "created model data R :    (32, 88) data shape,     250 training examples\n",
      "created model data S :    (32, 2) data shape,     250 training examples\n",
      "created model data key :    (12,) data shape,     250 training examples\n",
      "created model data tempo :    (1,) data shape,     250 training examples\n",
      "created model data V_mean :    (1,) data shape,     250 training examples\n"
     ]
    },
    {
     "name": "stderr",
     "output_type": "stream",
     "text": [
      "\n"
     ]
    }
   ],
   "source": [
    "# get training data\n",
    "model_datas_train, seconds1 = data.folder2examples('training_data/midi_train' + config['data_folder_prefix'], sparse=False,\n",
    "                                                  use_base_key=config['use_base_key'], beats_per_ex=int(config['seq_length'] / config['sub_beats']),\n",
    "                                                  nth_file=None, vel_cutoff=config['vel_cutoff'], sub_beats=config['sub_beats'])\n",
    "model_datas_val, seconds2 = data.folder2examples('training_data/midi_val' + config['data_folder_prefix'], sparse=False,\n",
    "                                                use_base_key=config['use_base_key'], beats_per_ex=int(config['seq_length'] / config['sub_beats']),\n",
    "                                                sub_beats=config['sub_beats'])"
   ]
  },
  {
   "cell_type": "code",
   "execution_count": 22,
   "metadata": {},
   "outputs": [
    {
     "data": {
      "text/plain": [
       "0.6467469894731687"
      ]
     },
     "execution_count": 22,
     "metadata": {},
     "output_type": "execute_result"
    }
   ],
   "source": [
    "seconds2 / 3600"
   ]
  },
  {
   "cell_type": "code",
   "execution_count": null,
   "metadata": {},
   "outputs": [],
   "source": [
    "model_input_reqs, model_output_reqs = models.get_model_reqs(config['model_inputs'], config['model_outputs'])\n",
    "\n",
    "config['beta_rate'] = 0\n",
    "\n",
    "# model kwargs - for the encoder/decoder builder functions, make a dictionary to pass as kwargs\n",
    "model_kwargs = config\n",
    "# if variational, z will be a list of [[means], [stds]]\n",
    "build_encoder_graph = models.create_LSTMencoder_graph\n",
    "z, model_inputs_tf = build_encoder_graph(model_input_reqs, **model_kwargs)\n",
    "\n",
    "if config['variational']:\n",
    "    beta_fn = exp_utils.beta_fn2(config['beta_rate'], config['max_beta'])\n",
    "    loss_for_train, beta_cb = losses.vae_custom_loss(z, beta_fn, free_bits=config['free_bits'], kl_weight=config['kl_weight'])\n",
    "    sampling_fn = models.sampling(config['batch_size'], epsilon_std=config['epsilon_std'])\n",
    "    # z_input is the tensor that will be passed into the decoder\n",
    "    z_input = layers.Lambda(sampling_fn)(z)\n",
    "else:\n",
    "    loss_for_train = config['loss']\n",
    "    z_input = z\n",
    "\n",
    "if config['hierarchical']:\n",
    "    build_decoder_graph = models.create_hierarchical_decoder_graph\n",
    "else:\n",
    "    build_decoder_graph =models.create_LSTMdecoder_graph_ar\n",
    "\n",
    "pred, ar_inputs_tf = build_decoder_graph(z_input, model_output_reqs, **model_kwargs)\n",
    "autoencoder = tf.keras.Model(inputs=model_inputs_tf + ar_inputs_tf, outputs=pred, name=f'autoencoder')\n",
    "autoencoder.summary()\n",
    "\n",
    "\n",
    "dg = ml_classes.ModelDataGenerator([md for md in model_datas_train.values()],\n",
    "                                    [model_in.name for model_in in model_input_reqs],\n",
    "                                    [model_out.name for model_out in model_output_reqs],\n",
    "                                    t_force=True, batch_size = config['batch_size'], seq_length=config['seq_length'])\n",
    "\n",
    "dg_val = ml_classes.ModelDataGenerator([md for md in model_datas_val.values()],\n",
    "                                    [model_in.name for model_in in model_input_reqs],\n",
    "                                    [model_out.name for model_out in model_output_reqs],\n",
    "                                    t_force=True, batch_size = config['batch_size'], seq_length=config['seq_length'])"
   ]
  },
  {
   "cell_type": "code",
   "execution_count": null,
   "metadata": {},
   "outputs": [],
   "source": [
    "config\n",
    "# config['loss_weights'][0]"
   ]
  },
  {
   "cell_type": "code",
   "execution_count": null,
   "metadata": {},
   "outputs": [],
   "source": [
    "opt = tf.keras.optimizers.Adam()\n",
    "autoencoder.compile(optimizer=opt, loss=loss_for_train, metrics=config['metrics'], loss_weights=config['loss_weights'])"
   ]
  },
  {
   "cell_type": "code",
   "execution_count": null,
   "metadata": {},
   "outputs": [],
   "source": [
    "# autoencoder.load_weights(f'experiments/run_{run}/{run}_best_train_weights.hdf5', by_name=True)\n",
    "models.load_weights_safe(autoencoder,f'experiments/run_{run}/{run}_best_val_weights.hdf5',by_name=False)"
   ]
  },
  {
   "cell_type": "code",
   "execution_count": null,
   "metadata": {},
   "outputs": [],
   "source": [
    "random_examples, idx = data.n_rand_examples(model_datas_val, n=64)\n",
    "random_examples['H_out'] = random_examples['H_ar']\n",
    "random_examples['V_out'] = random_examples['V_ar']\n",
    "autoencoder.evaluate(random_examples, random_examples, batch_size=config['batch_size'])"
   ]
  },
  {
   "cell_type": "code",
   "execution_count": null,
   "metadata": {},
   "outputs": [],
   "source": [
    "def matrices2note_tuples(H, V):\n",
    "    \"\"\"given an example in HOV form, return note_tuples and velocities for notes\n",
    "    \n",
    "    Notes:\n",
    "    experimental function... It is easier to just go straight to note_tuple like representation from pm.\n",
    "    Won't use this one.\n",
    "    \"\"\"\n",
    "    # this is in order: pitch from low to high for first beat, then for second...\n",
    "    # note mask for selecting note positions\n",
    "    note_mask = np.where(H != 0)\n",
    "    # list of lists, each sublist is [pitch, timestep]\n",
    "    note_tuples = [[pitch, timestep] for timestep, pitch in zip(note_mask[0], note_mask[1])]\n",
    "    velocities = V[note_mask]\n",
    "    return note_tuples, velocities"
   ]
  },
  {
   "cell_type": "code",
   "execution_count": null,
   "metadata": {},
   "outputs": [],
   "source": [
    "# get training data\n",
    "beats_per_ex = 16\n",
    "sub_beats = 2\n",
    "seq_length = beats_per_ex * sub_beats\n",
    "model_datas_train, seconds = data.folder2examples('training_data/midi_train' + '_8', sparse=False,\n",
    "                                                  beats_per_ex=beats_per_ex, nth_file=8, vel_cutoff=4, sub_beats=sub_beats)"
   ]
  },
  {
   "cell_type": "code",
   "execution_count": null,
   "metadata": {},
   "outputs": [],
   "source": [
    "lengths = []\n",
    "for i in range(len(model_datas_train['H'].data)):\n",
    "    a, b = matrices2note_tuples(model_datas_train['H'].data[i], model_datas_train['V'].data[i])\n",
    "    lengths.append(len(a))"
   ]
  },
  {
   "cell_type": "code",
   "execution_count": null,
   "metadata": {},
   "outputs": [],
   "source": [
    "plt.hist(lengths, bins=20)"
   ]
  },
  {
   "cell_type": "code",
   "execution_count": null,
   "metadata": {},
   "outputs": [],
   "source": [
    "sub_beat_len = .46\n",
    "# time of note is closest to 5th subbeat\n",
    "time = 5.3 * sub_beat_len\n",
    "round(time / sub_beat_len)"
   ]
  },
  {
   "cell_type": "code",
   "execution_count": null,
   "metadata": {},
   "outputs": [],
   "source": [
    "pm.instruments[0].notes[:10]"
   ]
  },
  {
   "cell_type": "code",
   "execution_count": null,
   "metadata": {},
   "outputs": [],
   "source": []
  },
  {
   "cell_type": "code",
   "execution_count": 36,
   "metadata": {},
   "outputs": [],
   "source": [
    "# testing model data generator for V_no_zeros\n",
    "model_input_reqs, model_output_reqs = models.get_model_reqs(config['model_inputs'], config['model_outputs'])\n",
    "dg = ml_classes.ModelDataGenerator([md for md in model_datas_train.values()],\n",
    "                                    [model_in.name for model_in in model_input_reqs],\n",
    "                                    [model_out.name for model_out in model_output_reqs],\n",
    "                                    t_force=True, batch_size = config['batch_size'], seq_length=config['seq_length'],\n",
    "                                    V_no_zeros=False)\n"
   ]
  },
  {
   "cell_type": "code",
   "execution_count": 112,
   "metadata": {},
   "outputs": [
    {
     "data": {
      "text/plain": [
       "[0.000879660931373523,\n",
       " 0.0014481468824669719,\n",
       " 0.001141855726018548,\n",
       " 0.0008663543849252164,\n",
       " 0.001760462997481227,\n",
       " 0.0023947665467858315]"
      ]
     },
     "execution_count": 112,
     "metadata": {},
     "output_type": "execute_result"
    }
   ],
   "source": [
    "stat = 'loss'\n",
    "\n",
    "# [[step for step in run['info']['logs'][stat]] for run in run_entries]"
   ]
  },
  {
   "cell_type": "markdown",
   "metadata": {},
   "source": [
    "## Examining hyperparameters: plotting metrics from different training runs "
   ]
  },
  {
   "cell_type": "markdown",
   "metadata": {},
   "source": [
    "### testing different recurrent dropouts\n",
    "387, 389-394  \n",
    "Using hidden state size of 400. 2 bidirectional, 1 unidirectional layers.  \n",
    "0.3 recurrent dropout clearly does the best."
   ]
  },
  {
   "cell_type": "code",
   "execution_count": 138,
   "metadata": {},
   "outputs": [
    {
     "data": {
      "application/vnd.jupyter.widget-view+json": {
       "model_id": "d5c302a2930b466488978089771f9b1a",
       "version_major": 2,
       "version_minor": 0
      },
      "text/plain": [
       "VBox(children=(Checkbox(value=False, description='loss'), Checkbox(value=False, description='mse'), Checkbox(v…"
      ]
     },
     "metadata": {},
     "output_type": "display_data"
    }
   ],
   "source": [
    "### set up\n",
    "id_list = [i for i in range(389, 395)] + [387] # runs of interest\n",
    "x = 'recurrent_dropout' # hyperparameter of interest - will be plotted on x axis\n",
    "plot_sacred_runs(id_list, x)"
   ]
  },
  {
   "cell_type": "markdown",
   "metadata": {},
   "source": [
    "### testing different hidden state sizes\n",
    "372-379  \n",
    "3 layer model: testing hidden state size. Not big differences. go with 400. Not much worse than 4 layer model."
   ]
  },
  {
   "cell_type": "code",
   "execution_count": 168,
   "metadata": {},
   "outputs": [
    {
     "data": {
      "application/vnd.jupyter.widget-view+json": {
       "model_id": "ff2ca8a9a33a48ecb648d0c36b67078c",
       "version_major": 2,
       "version_minor": 0
      },
      "text/plain": [
       "VBox(children=(Checkbox(value=False, description='loss'), Checkbox(value=False, description='mse'), Checkbox(v…"
      ]
     },
     "metadata": {},
     "output_type": "display_data"
    }
   ],
   "source": [
    "### set up\n",
    "id_list = [i for i in range(372, 380)] # runs of interest\n",
    "x = 'hidden_state' # hyperparameter of interest - will be plotted on x axis\n",
    "plot_sacred_runs(id_list, x)"
   ]
  },
  {
   "cell_type": "markdown",
   "metadata": {},
   "source": [
    "### testing small models, 0.4 dropout - Old dataset\n",
    "372-379  \n",
    "testing small models - 48 state size overfits. 24 is best - finally doesn't overfit."
   ]
  },
  {
   "cell_type": "code",
   "execution_count": 169,
   "metadata": {},
   "outputs": [
    {
     "data": {
      "application/vnd.jupyter.widget-view+json": {
       "model_id": "06d4bfbf0a894d75a06d5b7f593bedec",
       "version_major": 2,
       "version_minor": 0
      },
      "text/plain": [
       "VBox(children=(Checkbox(value=False, description='loss'), Checkbox(value=False, description='mse'), Checkbox(v…"
      ]
     },
     "metadata": {},
     "output_type": "display_data"
    }
   ],
   "source": [
    "### set up\n",
    "id_list = [i for i in range(405, 417)] # runs of interest\n",
    "x = 'hidden_state' # hyperparameter of interest - will be plotted on x axis\n",
    "plot_sacred_runs(id_list, x)"
   ]
  },
  {
   "cell_type": "code",
   "execution_count": 171,
   "metadata": {},
   "outputs": [
    {
     "data": {
      "application/vnd.jupyter.widget-view+json": {
       "model_id": "bbdb742b4d044eab902e8278421295cc",
       "version_major": 2,
       "version_minor": 0
      },
      "text/plain": [
       "VBox(children=(Checkbox(value=False, description='loss'), Checkbox(value=False, description='mse'), Checkbox(v…"
      ]
     },
     "metadata": {},
     "output_type": "display_data"
    }
   ],
   "source": [
    "### Non dropout\n",
    "id_list = [i for i in range(418, 424)] # runs of interest\n",
    "x = 'hidden_state' # hyperparameter of interest - will be plotted on x axis\n",
    "plot_sacred_runs(id_list, x)"
   ]
  },
  {
   "cell_type": "code",
   "execution_count": 172,
   "metadata": {},
   "outputs": [
    {
     "data": {
      "application/vnd.jupyter.widget-view+json": {
       "model_id": "80f192823b384e27a4cb3b0737e3794f",
       "version_major": 2,
       "version_minor": 0
      },
      "text/plain": [
       "VBox(children=(Checkbox(value=False, description='loss'), Checkbox(value=False, description='mse'), Checkbox(v…"
      ]
     },
     "metadata": {},
     "output_type": "display_data"
    }
   ],
   "source": [
    "### Pn only models, testing how they compare to PCn PSn models in 418 to 423\n",
    "id_list = [i for i in range(424, 432)] + [i for i in range(418, 424)] # runs of interest\n",
    "x = 'hidden_state' # hyperparameter of interest - will be plotted on x axis\n",
    "plot_sacred_runs(id_list, x, split='model_inputs')"
   ]
  },
  {
   "cell_type": "code",
   "execution_count": 140,
   "metadata": {},
   "outputs": [
    {
     "data": {
      "application/vnd.jupyter.widget-view+json": {
       "model_id": "b85662b8bf044cb4a110cc33c03833de",
       "version_major": 2,
       "version_minor": 0
      },
      "text/plain": [
       "VBox(children=(Checkbox(value=False, description='loss'), Checkbox(value=False, description='mse'), Checkbox(v…"
      ]
     },
     "metadata": {},
     "output_type": "display_data"
    }
   ],
   "source": [
    "### Pn only models, testing how they compare to PCn PSn models in 418 to 423\n",
    "id_list = [i for i in range(418, 441)] # runs of interest\n",
    "x = 'hidden_state' # hyperparameter of interest - will be plotted on x axis\n",
    "split = 'model_inputs'\n",
    "plot_sacred_runs(id_list, x, split=split)"
   ]
  },
  {
   "cell_type": "markdown",
   "metadata": {},
   "source": [
    "### testing different recurrent dropouts\n",
    "418:424 with beat indicators vs 442:449 without\n",
    "Actually, use 442:457 - retrained some with beat indicators"
   ]
  },
  {
   "cell_type": "code",
   "execution_count": 6,
   "metadata": {},
   "outputs": [
    {
     "data": {
      "application/vnd.jupyter.widget-view+json": {
       "model_id": "c87397c6c6e5478c8c8c808ed98aec9b",
       "version_major": 2,
       "version_minor": 0
      },
      "text/plain": [
       "VBox(children=(Checkbox(value=False, description='loss'), Checkbox(value=False, description='mse'), Checkbox(v…"
      ]
     },
     "metadata": {},
     "output_type": "display_data"
    }
   ],
   "source": [
    "### set up\n",
    "id_list = [i for i in range(442, 458)]# runs of interest\n",
    "x = 'hidden_state' # hyperparameter of interest - will be plotted on x axis\n",
    "split = 'model_inputs'\n",
    "plot_sacred_runs(id_list, x, split, return_df=True)"
   ]
  },
  {
   "cell_type": "markdown",
   "metadata": {},
   "source": [
    "### testing different recurrent dropouts\n",
    "415 vs 470 vs 471: three models, each with different inputs.\n",
    "PSn + PCn is smoothest, trains fastest."
   ]
  },
  {
   "cell_type": "code",
   "execution_count": 43,
   "metadata": {},
   "outputs": [
    {
     "data": {
      "application/vnd.jupyter.widget-view+json": {
       "model_id": "fc70f33c985f463f81726dac3eebe793",
       "version_major": 2,
       "version_minor": 0
      },
      "text/plain": [
       "VBox(children=(Checkbox(value=False, description='loss'), Checkbox(value=False, description='accuracy'), Check…"
      ]
     },
     "metadata": {},
     "output_type": "display_data"
    }
   ],
   "source": [
    "### set up\n",
    "id_list = [415, 470, 471] # runs of interest\n",
    "x = 'model_inputs' # hyperparameter of interest - will be plotted on x axis\n",
    "plot_sacred_training(id_list, x, epoch_lim=100)"
   ]
  },
  {
   "cell_type": "code",
   "execution_count": 3,
   "metadata": {},
   "outputs": [],
   "source": [
    "def plot_sacred_runs(id_list, x, split=None, parameter_is_list=False, index_of_interest=-1, return_df=False):\n",
    "    \"\"\"retrieves and plots runs from sacred mongodb\n",
    "    \n",
    "    Arguments:\n",
    "    id_list -- list of run ids\n",
    "    x -- hyperparameter of interest\n",
    "    split -- config hyperparameter to split plotting by (multiple lines on same plot)\n",
    "    parameter_is_list -- specific case where a hyperparameter may be a list\n",
    "    index_of_interest -- if hyperapameter of interest is a list, which index of list do we care about?\n",
    "    \n",
    "    \"\"\"\n",
    "    # establish connection to database\n",
    "    client = pymongo.MongoClient()\n",
    "    fs = gridfs.GridFS(client.sacred)\n",
    "    runs = client.sacred.runs\n",
    "    metrics = client.sacred.metrics\n",
    "\n",
    "    # determine which runs are needed\n",
    "    run_entries = list(runs.find({'_id': {'$in': id_list}}))\n",
    "    # metric_ids = {m['name']: ObjectId(m['id']) for m in run_entry['info']['metrics']}\n",
    "    df = pd.DataFrame()\n",
    "\n",
    "    # What is the hyperparameter of interst? (x axis)\n",
    "    df[x] = [run['config'][x] for run in run_entries]\n",
    "    # change index to reflect run id\n",
    "    df.index = [run['_id'] for run in run_entries]\n",
    "\n",
    "    if parameter_is_list:\n",
    "        df[x] = df[x].apply(lambda x: x[index_of_interest])\n",
    "\n",
    "    # stats where minimum is best, or maximum is best\n",
    "    min_stats = [k for k in run_entries[0]['info']['logs'].keys() if any(x in k for x in ['categ', 'loss', 'mse'])]\n",
    "    max_stats = [k for k in run_entries[0]['info']['logs'].keys() if any(x in k for x in ['acc'])]\n",
    "\n",
    "    for stat in min_stats:\n",
    "    #     df[stat] = [min([step['value'] for step in run['info']['logs'][stat]]) for run in run_entries]\n",
    "        # for some inexplicable reason, sometimes the entry is a list of values, rather than a list of dictionaries with dtype recorded\n",
    "        df[stat] = [min([step['value'] for step in run['info']['logs'][stat]]) if isinstance(run['info']['logs'][stat][-1], dict) else min(run['info']['logs'][stat]) for run in run_entries]\n",
    "    for stat in max_stats:\n",
    "        df[stat] =[max([step['value'] for step in run['info']['logs'][stat]]) if isinstance(run['info']['logs'][stat][-1], dict) else max(run['info']['logs'][stat]) for run in run_entries]\n",
    "    if split != None:\n",
    "        df[split] = [str(run['config'][split]) for run in run_entries]\n",
    "    # how many epochs did training run for? Early stopping might have kicked in.\n",
    "    df['epochs'] = [len(run['info']['logs'][max_stats[0]]) for run in run_entries]\n",
    "    \n",
    "    ### simple checkbox gui\n",
    "    # one checkbox per metric\n",
    "    checkboxes = [widgets.Checkbox(description=col,) for col in df.columns if col != x]\n",
    "    # plot button\n",
    "    plot_button = widgets.Button(description='Plot',button_style='success')\n",
    "    # button_style one of 'success', 'info', 'warning', 'danger' or ''\n",
    "    log_buttons = [widgets.ToggleButton(description=f'log {i} axis', button_style='info') for i in ['x', 'y']]\n",
    "    # output of plotting\n",
    "    out = widgets.Output()\n",
    "    def on_button_click(_):\n",
    "        \"\"\"function for plotting ticked metrics on button click\"\"\"\n",
    "        with out:\n",
    "            # don't neglect to clear the output!\n",
    "            clear_output()\n",
    "            # get metrics that have been ticked\n",
    "            plot_metrics = [c.description for c in checkboxes if c.value]\n",
    "            if split != None:\n",
    "                split_values = df[split].unique()\n",
    "                plot_dfs = [df[df[split] == s] for s in split_values]\n",
    "            else:\n",
    "                plot_dfs = [df]\n",
    "            for pdf in plot_dfs:\n",
    "                for m in plot_metrics:\n",
    "                    plt.plot(pdf.sort_values(x)[x], pdf.sort_values(x)[m], marker='o')\n",
    "                if log_buttons[0].value:\n",
    "                    plt.xscale('log')\n",
    "                if log_buttons[1].value:\n",
    "                    plt.yscale('log')\n",
    "                # sort and print run numbers according to order they appear in plot\n",
    "                print([run for _, run in sorted(zip(pdf[x], pdf.index))])\n",
    "            if split != None:\n",
    "                plt.legend(split_values, loc= 'best')\n",
    "            else:\n",
    "                plt.legend(plot_metrics, loc='best')\n",
    "            plt.xlabel(x)\n",
    "            plt.title(plot_metrics)\n",
    "            labels = df.index\n",
    "            plt.show()\n",
    "    # linking button and function together using a button's method\n",
    "    plot_button.on_click(on_button_click)\n",
    "    # displaying button and its output together\n",
    "    display(widgets.VBox(checkboxes + log_buttons + [plot_button,out]))\n",
    "    if return_df:\n",
    "        return df"
   ]
  },
  {
   "cell_type": "code",
   "execution_count": 41,
   "metadata": {},
   "outputs": [],
   "source": [
    "def plot_sacred_training(id_list, x=None, epoch_lim = 10000, parameter_is_list=False, index_of_interest=-1, return_df=False):\n",
    "    \"\"\"retrieves and plots runs from sacred mongodb\n",
    "    \n",
    "    Arguments:\n",
    "    id_list -- list of run ids\n",
    "    x -- hyperparameter of interest\n",
    "    split -- config hyperparameter to split plotting by (multiple lines on same plot)\n",
    "    parameter_is_list -- specific case where a hyperparameter may be a list\n",
    "    index_of_interest -- if hyperapameter of interest is a list, which index of list do we care about?\n",
    "    \n",
    "    \"\"\"\n",
    "    # establish connection to database\n",
    "    client = pymongo.MongoClient()\n",
    "    fs = gridfs.GridFS(client.sacred)\n",
    "    runs = client.sacred.runs\n",
    "    metrics = client.sacred.metrics\n",
    "\n",
    "    # determine which runs are needed\n",
    "    run_entries = list(runs.find({'_id': {'$in': id_list}}))\n",
    "    # metric_ids = {m['name']: ObjectId(m['id']) for m in run_entry['info']['metrics']}\n",
    "    df = pd.DataFrame()\n",
    "    \n",
    "    if x != None:\n",
    "        # What is the hyperparameter of interst? (labels)\n",
    "        df[x] = [run['config'][x] for run in run_entries]\n",
    "    \n",
    "    stats = [k for k in run_entries[0]['info']['logs'].keys() if any(x in k for x in ['categ', 'loss', 'mse', 'acc'])]\n",
    "    for stat in stats:\n",
    "        df[stat] = [[step['value'] for step in run['info']['logs'][stat]] if isinstance(run['info']['logs'][stat][-1], dict) else run['info']['logs'][stat] for run in run_entries]\n",
    "    \n",
    "    df.index = [run['_id'] for run in run_entries]\n",
    "    ### simple checkbox gui\n",
    "    # one checkbox per metric\n",
    "    checkboxes = [widgets.Checkbox(description=col,) for col in df.columns if col != x]\n",
    "    # plot button\n",
    "    plot_button = widgets.Button(description='Plot',button_style='success')\n",
    "    # button_style one of 'success', 'info', 'warning', 'danger' or ''\n",
    "    log_buttons = [widgets.ToggleButton(description=f'log {i} axis', button_style='info') for i in ['x', 'y']]\n",
    "    # output of plotting\n",
    "    out = widgets.Output()\n",
    "    def on_button_click(_):\n",
    "        \"\"\"function for plotting ticked metrics on button click\"\"\"\n",
    "        with out:\n",
    "            # don't neglect to clear the output!\n",
    "            clear_output()\n",
    "            plt.figure(figsize=(9,6))\n",
    "            # get metrics that have been ticked\n",
    "            plot_metrics = [c.description for c in checkboxes if c.value]\n",
    "            legend_values = []\n",
    "            for index, row in df.iterrows():\n",
    "                for m in plot_metrics:\n",
    "                    plt.plot([i for i in range(len(row[m][:epoch_lim]))], row[m][:epoch_lim])\n",
    "                    legend_values.append(str(index) + ' ' + m + ' ' + str(row[x]))\n",
    "                if log_buttons[0].value:\n",
    "                    plt.xscale('log')\n",
    "                if log_buttons[1].value:\n",
    "                    plt.yscale('log')\n",
    "                # sort and print run numbers according to order they appear in plot\n",
    "#                 print([run for _, run in sorted(zip(pdf[x], pdf.index))])\n",
    "            plt.legend(legend_values, loc='best')\n",
    "            plt.xlabel(x)\n",
    "            plt.title(plot_metrics)\n",
    "            labels = df.index\n",
    "            plt.show()\n",
    "    # linking button and function together using a button's method\n",
    "    plot_button.on_click(on_button_click)\n",
    "    # displaying button and its output together\n",
    "    display(widgets.VBox(checkboxes + log_buttons + [plot_button,out]))\n",
    "    if return_df:\n",
    "        return df"
   ]
  },
  {
   "cell_type": "code",
   "execution_count": 27,
   "metadata": {},
   "outputs": [
    {
     "data": {
      "text/html": [
       "<div>\n",
       "<style scoped>\n",
       "    .dataframe tbody tr th:only-of-type {\n",
       "        vertical-align: middle;\n",
       "    }\n",
       "\n",
       "    .dataframe tbody tr th {\n",
       "        vertical-align: top;\n",
       "    }\n",
       "\n",
       "    .dataframe thead th {\n",
       "        text-align: right;\n",
       "    }\n",
       "</style>\n",
       "<table border=\"1\" class=\"dataframe\">\n",
       "  <thead>\n",
       "    <tr style=\"text-align: right;\">\n",
       "      <th></th>\n",
       "      <th>hidden_state</th>\n",
       "      <th>loss</th>\n",
       "      <th>mse</th>\n",
       "      <th>val_loss</th>\n",
       "      <th>val_mse</th>\n",
       "      <th>accuracy</th>\n",
       "      <th>val_accuracy</th>\n",
       "      <th>batch_size</th>\n",
       "      <th>model_inputs</th>\n",
       "      <th>bi_encoder_lstms</th>\n",
       "      <th>uni_encoder_lstms</th>\n",
       "    </tr>\n",
       "  </thead>\n",
       "  <tbody>\n",
       "    <tr>\n",
       "      <th>405</th>\n",
       "      <td>2</td>\n",
       "      <td>0.007591</td>\n",
       "      <td>0.007591</td>\n",
       "      <td>0.006967</td>\n",
       "      <td>0.006967</td>\n",
       "      <td>0.0</td>\n",
       "      <td>0.0</td>\n",
       "      <td>64</td>\n",
       "      <td>[PCn, PSn, TBn, TSBn]</td>\n",
       "      <td>1</td>\n",
       "      <td>1</td>\n",
       "    </tr>\n",
       "    <tr>\n",
       "      <th>406</th>\n",
       "      <td>3</td>\n",
       "      <td>0.007151</td>\n",
       "      <td>0.007151</td>\n",
       "      <td>0.006712</td>\n",
       "      <td>0.006712</td>\n",
       "      <td>0.0</td>\n",
       "      <td>0.0</td>\n",
       "      <td>64</td>\n",
       "      <td>[PCn, PSn, TBn, TSBn]</td>\n",
       "      <td>1</td>\n",
       "      <td>1</td>\n",
       "    </tr>\n",
       "    <tr>\n",
       "      <th>407</th>\n",
       "      <td>4</td>\n",
       "      <td>0.006655</td>\n",
       "      <td>0.006655</td>\n",
       "      <td>0.006222</td>\n",
       "      <td>0.006222</td>\n",
       "      <td>0.0</td>\n",
       "      <td>0.0</td>\n",
       "      <td>64</td>\n",
       "      <td>[PCn, PSn, TBn, TSBn]</td>\n",
       "      <td>1</td>\n",
       "      <td>1</td>\n",
       "    </tr>\n",
       "    <tr>\n",
       "      <th>408</th>\n",
       "      <td>5</td>\n",
       "      <td>0.006475</td>\n",
       "      <td>0.006475</td>\n",
       "      <td>0.006049</td>\n",
       "      <td>0.006049</td>\n",
       "      <td>0.0</td>\n",
       "      <td>0.0</td>\n",
       "      <td>64</td>\n",
       "      <td>[PCn, PSn, TBn, TSBn]</td>\n",
       "      <td>1</td>\n",
       "      <td>1</td>\n",
       "    </tr>\n",
       "    <tr>\n",
       "      <th>409</th>\n",
       "      <td>6</td>\n",
       "      <td>0.006311</td>\n",
       "      <td>0.006311</td>\n",
       "      <td>0.005794</td>\n",
       "      <td>0.005794</td>\n",
       "      <td>0.0</td>\n",
       "      <td>0.0</td>\n",
       "      <td>64</td>\n",
       "      <td>[PCn, PSn, TBn, TSBn]</td>\n",
       "      <td>1</td>\n",
       "      <td>1</td>\n",
       "    </tr>\n",
       "    <tr>\n",
       "      <th>410</th>\n",
       "      <td>7</td>\n",
       "      <td>0.005877</td>\n",
       "      <td>0.005877</td>\n",
       "      <td>0.005739</td>\n",
       "      <td>0.005739</td>\n",
       "      <td>0.0</td>\n",
       "      <td>0.0</td>\n",
       "      <td>64</td>\n",
       "      <td>[PCn, PSn, TBn, TSBn]</td>\n",
       "      <td>1</td>\n",
       "      <td>1</td>\n",
       "    </tr>\n",
       "    <tr>\n",
       "      <th>414</th>\n",
       "      <td>12</td>\n",
       "      <td>0.005372</td>\n",
       "      <td>0.005372</td>\n",
       "      <td>0.005534</td>\n",
       "      <td>0.005534</td>\n",
       "      <td>0.0</td>\n",
       "      <td>0.0</td>\n",
       "      <td>64</td>\n",
       "      <td>[PCn, PSn, TBn, TSBn]</td>\n",
       "      <td>1</td>\n",
       "      <td>1</td>\n",
       "    </tr>\n",
       "    <tr>\n",
       "      <th>415</th>\n",
       "      <td>24</td>\n",
       "      <td>0.004857</td>\n",
       "      <td>0.004857</td>\n",
       "      <td>0.005303</td>\n",
       "      <td>0.005303</td>\n",
       "      <td>0.0</td>\n",
       "      <td>0.0</td>\n",
       "      <td>64</td>\n",
       "      <td>[PCn, PSn, TBn, TSBn]</td>\n",
       "      <td>1</td>\n",
       "      <td>1</td>\n",
       "    </tr>\n",
       "    <tr>\n",
       "      <th>416</th>\n",
       "      <td>48</td>\n",
       "      <td>0.003463</td>\n",
       "      <td>0.003463</td>\n",
       "      <td>0.005487</td>\n",
       "      <td>0.005487</td>\n",
       "      <td>0.0</td>\n",
       "      <td>0.0</td>\n",
       "      <td>64</td>\n",
       "      <td>[PCn, PSn, TBn, TSBn]</td>\n",
       "      <td>1</td>\n",
       "      <td>1</td>\n",
       "    </tr>\n",
       "  </tbody>\n",
       "</table>\n",
       "</div>"
      ],
      "text/plain": [
       "     hidden_state      loss       mse  val_loss   val_mse  accuracy  \\\n",
       "405             2  0.007591  0.007591  0.006967  0.006967       0.0   \n",
       "406             3  0.007151  0.007151  0.006712  0.006712       0.0   \n",
       "407             4  0.006655  0.006655  0.006222  0.006222       0.0   \n",
       "408             5  0.006475  0.006475  0.006049  0.006049       0.0   \n",
       "409             6  0.006311  0.006311  0.005794  0.005794       0.0   \n",
       "410             7  0.005877  0.005877  0.005739  0.005739       0.0   \n",
       "414            12  0.005372  0.005372  0.005534  0.005534       0.0   \n",
       "415            24  0.004857  0.004857  0.005303  0.005303       0.0   \n",
       "416            48  0.003463  0.003463  0.005487  0.005487       0.0   \n",
       "\n",
       "     val_accuracy  batch_size           model_inputs  bi_encoder_lstms  \\\n",
       "405           0.0          64  [PCn, PSn, TBn, TSBn]                 1   \n",
       "406           0.0          64  [PCn, PSn, TBn, TSBn]                 1   \n",
       "407           0.0          64  [PCn, PSn, TBn, TSBn]                 1   \n",
       "408           0.0          64  [PCn, PSn, TBn, TSBn]                 1   \n",
       "409           0.0          64  [PCn, PSn, TBn, TSBn]                 1   \n",
       "410           0.0          64  [PCn, PSn, TBn, TSBn]                 1   \n",
       "414           0.0          64  [PCn, PSn, TBn, TSBn]                 1   \n",
       "415           0.0          64  [PCn, PSn, TBn, TSBn]                 1   \n",
       "416           0.0          64  [PCn, PSn, TBn, TSBn]                 1   \n",
       "\n",
       "     uni_encoder_lstms  \n",
       "405                  1  \n",
       "406                  1  \n",
       "407                  1  \n",
       "408                  1  \n",
       "409                  1  \n",
       "410                  1  \n",
       "414                  1  \n",
       "415                  1  \n",
       "416                  1  "
      ]
     },
     "execution_count": 27,
     "metadata": {},
     "output_type": "execute_result"
    }
   ],
   "source": [
    "misc_params = ['hidden_state',  'batch_size', 'model_inputs', 'bi_encoder_lstms', 'uni_encoder_lstms']\n",
    "# misc_params = set([key for run in run_entries for key in run['config'].keys()])\n",
    "for param in misc_params:\n",
    "    df[param] = [run['config'][param] for run in run_entries]\n"
   ]
  },
  {
   "cell_type": "code",
   "execution_count": 26,
   "metadata": {},
   "outputs": [
    {
     "name": "stdout",
     "output_type": "stream",
     "text": [
      "442\n",
      "443\n",
      "444\n",
      "445\n",
      "446\n",
      "447\n",
      "448\n",
      "449\n",
      "450\n",
      "451\n",
      "452\n",
      "453\n",
      "454\n",
      "455\n",
      "456\n",
      "457\n"
     ]
    }
   ],
   "source": [
    "for index, row in df.iterrows():\n",
    "    print(index)"
   ]
  },
  {
   "cell_type": "code",
   "execution_count": 40,
   "metadata": {},
   "outputs": [
    {
     "data": {
      "text/plain": [
       "[1, 2, 3, 4, 5]"
      ]
     },
     "execution_count": 40,
     "metadata": {},
     "output_type": "execute_result"
    }
   ],
   "source": [
    "[1,2,3,4,5][:10000]"
   ]
  },
  {
   "cell_type": "code",
   "execution_count": 42,
   "metadata": {},
   "outputs": [
    {
     "data": {
      "text/plain": [
       "[2, 3, 4, 5, 6, 7, 12, 24, 48]"
      ]
     },
     "execution_count": 42,
     "metadata": {},
     "output_type": "execute_result"
    }
   ],
   "source": [
    "df[x].to_list()"
   ]
  },
  {
   "cell_type": "code",
   "execution_count": 58,
   "metadata": {},
   "outputs": [
    {
     "data": {
      "text/plain": [
       "''"
      ]
     },
     "execution_count": 58,
     "metadata": {},
     "output_type": "execute_result"
    },
    {
     "data": {
      "image/png": "[encoded data removed]",
      "text/plain": [
       "<Figure size 432x288 with 1 Axes>"
      ]
     },
     "metadata": {
      "needs_background": "light"
     },
     "output_type": "display_data"
    }
   ],
   "source": [
    "plt.xticks()[1][1].get_label()"
   ]
  }
 ],
 "metadata": {
  "kernelspec": {
   "display_name": "Python 3",
   "language": "python",
   "name": "python3"
  },
  "language_info": {
   "codemirror_mode": {
    "name": "ipython",
    "version": 3
   },
   "file_extension": ".py",
   "mimetype": "text/x-python",
   "name": "python",
   "nbconvert_exporter": "python",
   "pygments_lexer": "ipython3",
   "version": "3.8.3"
  }
 },
 "nbformat": 4,
 "nbformat_minor": 4
}
