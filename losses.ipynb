{
 "cells": [
  {
   "cell_type": "code",
   "execution_count": 44,
   "metadata": {},
   "outputs": [],
   "source": [
    "from importlib import reload\n",
    "import pymongo\n",
    "import gridfs\n",
    "import numpy as np\n",
    "import os\n",
    "os.environ['CUDA_VISIBLE_DEVICES'] = '-1'\n",
    "from scipy.sparse import csc_matrix, csr_matrix\n",
    "import pickle\n",
    "import pretty_midi\n",
    "import sys\n",
    "import copy\n",
    "from collections import namedtuple\n",
    "import timeit\n",
    "import matplotlib.pyplot as plt\n",
    "import tensorflow as tf\n",
    "from tensorflow.keras import layers\n",
    "import pandas as pd\n",
    "from IPython.display import clear_output\n",
    "from ipywidgets import interact, interactive, fixed, interact_manual\n",
    "import ipywidgets as widgets"
   ]
  },
  {
   "cell_type": "code",
   "execution_count": 48,
   "metadata": {},
   "outputs": [
    {
     "data": {
      "text/plain": [
       "<module 'src.losses' from '/storage/781-piano-autoencoder/src/losses.py'>"
      ]
     },
     "execution_count": 48,
     "metadata": {},
     "output_type": "execute_result"
    }
   ],
   "source": [
    "# import modules, including a reload statement so that they can be reimported after a change to the methods \n",
    "import src.midi_utils as midi_utils\n",
    "reload(midi_utils)\n",
    "\n",
    "import src.data as data\n",
    "reload(data)\n",
    "\n",
    "import src.models as models\n",
    "reload(models)\n",
    "\n",
    "import src.ml_classes as ml_classes\n",
    "reload(ml_classes)\n",
    "\n",
    "import src.exp_utils as exp_utils\n",
    "reload(exp_utils)\n",
    "\n",
    "import src.losses as losses\n",
    "reload(losses)"
   ]
  },
  {
   "cell_type": "code",
   "execution_count": null,
   "metadata": {},
   "outputs": [],
   "source": [
    "tf.compat.v1.disable_eager_execution()"
   ]
  },
  {
   "cell_type": "code",
   "execution_count": 14,
   "metadata": {},
   "outputs": [],
   "source": [
    "run = 307\n",
    "client = pymongo.MongoClient()  # assuming a local MongoDB\n",
    "fs = gridfs.GridFS(client.sacred)  # assuming database name is 'sacred'\n",
    "runs = client.sacred.runs\n",
    "# Now get run from the database\n",
    "run_entry = runs.find_one({'_id': run})\n",
    "config = run_entry['config']"
   ]
  },
  {
   "cell_type": "code",
   "execution_count": 18,
   "metadata": {},
   "outputs": [
    {
     "name": "stderr",
     "output_type": "stream",
     "text": [
      "100%|██████████| 230/230 [01:13<00:00,  3.13it/s]\n"
     ]
    },
    {
     "name": "stdout",
     "output_type": "stream",
     "text": [
      "10h 47m 55s of data\n",
      "created model data H :    (32, 88) data shape,     4122 training examples\n",
      "created model data O :    (32, 88) data shape,     4122 training examples\n",
      "created model data V :    (32, 88) data shape,     4122 training examples\n",
      "created model data R :    (32, 88) data shape,     4122 training examples\n",
      "created model data S :    (32, 2) data shape,     4122 training examples\n",
      "created model data key :    (12,) data shape,     4122 training examples\n",
      "created model data tempo :    (1,) data shape,     4122 training examples\n"
     ]
    },
    {
     "name": "stderr",
     "output_type": "stream",
     "text": [
      "  8%|▊         | 1/12 [00:00<00:01,  7.82it/s]"
     ]
    },
    {
     "name": "stdout",
     "output_type": "stream",
     "text": [
      "created model data V_mean :    (1,) data shape,     4122 training examples\n"
     ]
    },
    {
     "name": "stderr",
     "output_type": "stream",
     "text": [
      "100%|██████████| 12/12 [00:03<00:00,  3.20it/s]"
     ]
    },
    {
     "name": "stdout",
     "output_type": "stream",
     "text": [
      "00h 38m 48s of data\n",
      "created model data H :    (32, 88) data shape,     250 training examples\n",
      "created model data O :    (32, 88) data shape,     250 training examples\n",
      "created model data V :    (32, 88) data shape,     250 training examples\n",
      "created model data R :    (32, 88) data shape,     250 training examples\n",
      "created model data S :    (32, 2) data shape,     250 training examples\n",
      "created model data key :    (12,) data shape,     250 training examples\n",
      "created model data tempo :    (1,) data shape,     250 training examples\n",
      "created model data V_mean :    (1,) data shape,     250 training examples\n"
     ]
    },
    {
     "name": "stderr",
     "output_type": "stream",
     "text": [
      "\n"
     ]
    }
   ],
   "source": [
    "# get training data\n",
    "model_datas_train, seconds1 = data.folder2examples('training_data/midi_train' + config['data_folder_prefix'], sparse=False,\n",
    "                                                  use_base_key=config['use_base_key'], beats_per_ex=int(config['seq_length'] / config['sub_beats']),\n",
    "                                                  nth_file=None, vel_cutoff=config['vel_cutoff'], sub_beats=config['sub_beats'])\n",
    "model_datas_val, seconds2 = data.folder2examples('training_data/midi_val' + config['data_folder_prefix'], sparse=False,\n",
    "                                                use_base_key=config['use_base_key'], beats_per_ex=int(config['seq_length'] / config['sub_beats']),\n",
    "                                                sub_beats=config['sub_beats'])"
   ]
  },
  {
   "cell_type": "code",
   "execution_count": 22,
   "metadata": {},
   "outputs": [
    {
     "data": {
      "text/plain": [
       "0.6467469894731687"
      ]
     },
     "execution_count": 22,
     "metadata": {},
     "output_type": "execute_result"
    }
   ],
   "source": [
    "seconds2 / 3600"
   ]
  },
  {
   "cell_type": "code",
   "execution_count": null,
   "metadata": {},
   "outputs": [],
   "source": [
    "model_input_reqs, model_output_reqs = models.get_model_reqs(config['model_inputs'], config['model_outputs'])\n",
    "\n",
    "config['beta_rate'] = 0\n",
    "\n",
    "# model kwargs - for the encoder/decoder builder functions, make a dictionary to pass as kwargs\n",
    "model_kwargs = config\n",
    "# if variational, z will be a list of [[means], [stds]]\n",
    "build_encoder_graph = models.create_LSTMencoder_graph\n",
    "z, model_inputs_tf = build_encoder_graph(model_input_reqs, **model_kwargs)\n",
    "\n",
    "if config['variational']:\n",
    "    beta_fn = exp_utils.beta_fn2(config['beta_rate'], config['max_beta'])\n",
    "    loss_for_train, beta_cb = losses.vae_custom_loss(z, beta_fn, free_bits=config['free_bits'], kl_weight=config['kl_weight'])\n",
    "    sampling_fn = models.sampling(config['batch_size'], epsilon_std=config['epsilon_std'])\n",
    "    # z_input is the tensor that will be passed into the decoder\n",
    "    z_input = layers.Lambda(sampling_fn)(z)\n",
    "else:\n",
    "    loss_for_train = config['loss']\n",
    "    z_input = z\n",
    "\n",
    "if config['hierarchical']:\n",
    "    build_decoder_graph = models.create_hierarchical_decoder_graph\n",
    "else:\n",
    "    build_decoder_graph =models.create_LSTMdecoder_graph_ar\n",
    "\n",
    "pred, ar_inputs_tf = build_decoder_graph(z_input, model_output_reqs, **model_kwargs)\n",
    "autoencoder = tf.keras.Model(inputs=model_inputs_tf + ar_inputs_tf, outputs=pred, name=f'autoencoder')\n",
    "autoencoder.summary()\n",
    "\n",
    "\n",
    "dg = ml_classes.ModelDataGenerator([md for md in model_datas_train.values()],\n",
    "                                    [model_in.name for model_in in model_input_reqs],\n",
    "                                    [model_out.name for model_out in model_output_reqs],\n",
    "                                    t_force=True, batch_size = config['batch_size'], seq_length=config['seq_length'])\n",
    "\n",
    "dg_val = ml_classes.ModelDataGenerator([md for md in model_datas_val.values()],\n",
    "                                    [model_in.name for model_in in model_input_reqs],\n",
    "                                    [model_out.name for model_out in model_output_reqs],\n",
    "                                    t_force=True, batch_size = config['batch_size'], seq_length=config['seq_length'])"
   ]
  },
  {
   "cell_type": "code",
   "execution_count": null,
   "metadata": {},
   "outputs": [],
   "source": [
    "config\n",
    "# config['loss_weights'][0]"
   ]
  },
  {
   "cell_type": "code",
   "execution_count": null,
   "metadata": {},
   "outputs": [],
   "source": [
    "opt = tf.keras.optimizers.Adam()\n",
    "autoencoder.compile(optimizer=opt, loss=loss_for_train, metrics=config['metrics'], loss_weights=config['loss_weights'])"
   ]
  },
  {
   "cell_type": "code",
   "execution_count": null,
   "metadata": {},
   "outputs": [],
   "source": [
    "# autoencoder.load_weights(f'experiments/run_{run}/{run}_best_train_weights.hdf5', by_name=True)\n",
    "models.load_weights_safe(autoencoder,f'experiments/run_{run}/{run}_best_val_weights.hdf5',by_name=False)"
   ]
  },
  {
   "cell_type": "code",
   "execution_count": null,
   "metadata": {},
   "outputs": [],
   "source": [
    "random_examples, idx = data.n_rand_examples(model_datas_val, n=64)\n",
    "random_examples['H_out'] = random_examples['H_ar']\n",
    "random_examples['V_out'] = random_examples['V_ar']\n",
    "autoencoder.evaluate(random_examples, random_examples, batch_size=config['batch_size'])"
   ]
  },
  {
   "cell_type": "code",
   "execution_count": null,
   "metadata": {},
   "outputs": [],
   "source": [
    "def matrices2note_tuples(H, V):\n",
    "    \"\"\"given an example in HOV form, return note_tuples and velocities for notes\n",
    "    \n",
    "    Notes:\n",
    "    experimental function... It is easier to just go straight to note_tuple like representation from pm.\n",
    "    Won't use this one.\n",
    "    \"\"\"\n",
    "    # this is in order: pitch from low to high for first beat, then for second...\n",
    "    # note mask for selecting note positions\n",
    "    note_mask = np.where(H != 0)\n",
    "    # list of lists, each sublist is [pitch, timestep]\n",
    "    note_tuples = [[pitch, timestep] for timestep, pitch in zip(note_mask[0], note_mask[1])]\n",
    "    velocities = V[note_mask]\n",
    "    return note_tuples, velocities"
   ]
  },
  {
   "cell_type": "code",
   "execution_count": null,
   "metadata": {},
   "outputs": [],
   "source": [
    "# get training data\n",
    "beats_per_ex = 16\n",
    "sub_beats = 2\n",
    "seq_length = beats_per_ex * sub_beats\n",
    "model_datas_train, seconds = data.folder2examples('training_data/midi_train' + '_8', sparse=False,\n",
    "                                                  beats_per_ex=beats_per_ex, nth_file=8, vel_cutoff=4, sub_beats=sub_beats)"
   ]
  },
  {
   "cell_type": "code",
   "execution_count": null,
   "metadata": {},
   "outputs": [],
   "source": [
    "lengths = []\n",
    "for i in range(len(model_datas_train['H'].data)):\n",
    "    a, b = matrices2note_tuples(model_datas_train['H'].data[i], model_datas_train['V'].data[i])\n",
    "    lengths.append(len(a))"
   ]
  },
  {
   "cell_type": "code",
   "execution_count": null,
   "metadata": {},
   "outputs": [],
   "source": [
    "plt.hist(lengths, bins=20)"
   ]
  },
  {
   "cell_type": "code",
   "execution_count": null,
   "metadata": {},
   "outputs": [],
   "source": [
    "sub_beat_len = .46\n",
    "# time of note is closest to 5th subbeat\n",
    "time = 5.3 * sub_beat_len\n",
    "round(time / sub_beat_len)"
   ]
  },
  {
   "cell_type": "code",
   "execution_count": null,
   "metadata": {},
   "outputs": [],
   "source": [
    "pm.instruments[0].notes[:10]"
   ]
  },
  {
   "cell_type": "code",
   "execution_count": null,
   "metadata": {},
   "outputs": [],
   "source": []
  },
  {
   "cell_type": "code",
   "execution_count": 36,
   "metadata": {},
   "outputs": [],
   "source": [
    "# testing model data generator for V_no_zeros\n",
    "model_input_reqs, model_output_reqs = models.get_model_reqs(config['model_inputs'], config['model_outputs'])\n",
    "dg = ml_classes.ModelDataGenerator([md for md in model_datas_train.values()],\n",
    "                                    [model_in.name for model_in in model_input_reqs],\n",
    "                                    [model_out.name for model_out in model_output_reqs],\n",
    "                                    t_force=True, batch_size = config['batch_size'], seq_length=config['seq_length'],\n",
    "                                    V_no_zeros=False)\n"
   ]
  },
  {
   "cell_type": "markdown",
   "metadata": {},
   "source": [
    "## Examining hyperparameters: plotting metrics from different training runs "
   ]
  },
  {
   "cell_type": "code",
   "execution_count": 18,
   "metadata": {},
   "outputs": [],
   "source": [
    "# establish connection to database\n",
    "client = pymongo.MongoClient()\n",
    "fs = gridfs.GridFS(client.sacred)\n",
    "runs = client.sacred.runs\n",
    "metrics = client.sacred.metrics\n",
    "\n",
    "# determine which runs are needed\n",
    "run_entries = list(runs.find({'_id': {'$in': [i for i in range(344, 400)]}}))\n",
    "# metric_ids = {m['name']: ObjectId(m['id']) for m in run_entry['info']['metrics']}\n",
    "df = pd.DataFrame()\n",
    "\n",
    "# What is the hyperparameter of interst? (x axis)\n",
    "x = 'loss_weights'\n",
    "df[x] = [run['config'][x] for run in run_entries]\n",
    "\n",
    "# stats where minimum is best, or maximum is best\n",
    "min_stats = [k for k in run_entries[0]['info']['logs'].keys() if any(x in k for x in ['categ', 'loss', 'mse'])]\n",
    "max_stats = [k for k in run_entries[0]['info']['logs'].keys() if any(x in k for x in ['acc'])]\n",
    "\n",
    "for stat in min_stats:\n",
    "    df[stat] =[min([step['value'] for step in run['info']['logs'][stat]]) for run in run_entries]\n",
    "for stat in max_stats:\n",
    "    df[stat] =[max([step['value'] for step in run['info']['logs'][stat]]) for run in run_entries]\n",
    "\n"
   ]
  },
  {
   "cell_type": "code",
   "execution_count": 14,
   "metadata": {},
   "outputs": [
    {
     "data": {
      "text/plain": [
       "'10'"
      ]
     },
     "execution_count": 14,
     "metadata": {},
     "output_type": "execute_result"
    }
   ],
   "source": [
    "'[1, 10]'.replace(']', ' ').split()[-1]"
   ]
  },
  {
   "cell_type": "code",
   "execution_count": 19,
   "metadata": {},
   "outputs": [],
   "source": [
    "df['loss_weights'] = df['loss_weights'].apply(lambda x: x[-1])"
   ]
  },
  {
   "cell_type": "code",
   "execution_count": 20,
   "metadata": {},
   "outputs": [
    {
     "data": {
      "application/vnd.jupyter.widget-view+json": {
       "model_id": "9e280d4ea28f49f8927ea08da327569f",
       "version_major": 2,
       "version_minor": 0
      },
      "text/plain": [
       "VBox(children=(Checkbox(value=False, description='loss_weights'), Checkbox(value=False, description='loss'), C…"
      ]
     },
     "metadata": {},
     "output_type": "display_data"
    }
   ],
   "source": [
    "### simple checkbox gui\n",
    "# one checkbox per metric\n",
    "checkboxes = [widgets.Checkbox(description=col,) for col in df.columns]\n",
    "# plot button\n",
    "button = widgets.Button(description='Plot')\n",
    "# output of plotting\n",
    "out = widgets.Output()\n",
    "def on_button_click(_):\n",
    "    \"\"\"simple function for plotting ticked metrics on button click\"\"\"\n",
    "    with out:\n",
    "        # don't neglect to clear the output!\n",
    "        clear_output()\n",
    "        plot_metrics = [c.description for c in checkboxes if c.value]\n",
    "        for m in plot_metrics:\n",
    "            plt.plot(df.sort_values(x)[x], df[m], marker='o')\n",
    "        plt.xscale('log')\n",
    "        plt.legend(plot_metrics, loc='lower center')\n",
    "        plt.show()\n",
    "# linking button and function together using a button's method\n",
    "button.on_click(on_button_click)\n",
    "# displaying button and its output together\n",
    "widgets.VBox(checkboxes + [button,out])"
   ]
  },
  {
   "cell_type": "code",
   "execution_count": 82,
   "metadata": {},
   "outputs": [
    {
     "name": "stdout",
     "output_type": "stream",
     "text": [
      "max_beta\n"
     ]
    },
    {
     "data": {
      "text/plain": [
       "<matplotlib.legend.Legend at 0x7f72e6b2ff10>"
      ]
     },
     "execution_count": 82,
     "metadata": {},
     "output_type": "execute_result"
    },
    {
     "data": {
      "image/png": "[encoded data removed]",
      "text/plain": [
       "<Figure size 432x288 with 1 Axes>"
      ]
     },
     "metadata": {
      "needs_background": "light"
     },
     "output_type": "display_data"
    }
   ],
   "source": [
    "# box.children[0].value\n",
    "print(box.children[0].description)\n",
    "plot_metrics = [c.description for c in box.children if c.value]\n",
    "for m in plot_metrics:\n",
    "    plt.plot(df.sort_values('max_beta')['max_beta'], df[m], marker='o')\n",
    "plt.legend(plot_metrics, loc='upper right')"
   ]
  },
  {
   "cell_type": "code",
   "execution_count": 44,
   "metadata": {},
   "outputs": [
    {
     "data": {
      "text/plain": [
       "array([[[1., 0., 0., 0.],\n",
       "        [1., 0., 0., 0.],\n",
       "        [1., 0., 0., 0.],\n",
       "        [1., 0., 0., 0.],\n",
       "        [0., 1., 0., 0.],\n",
       "        [0., 1., 0., 0.],\n",
       "        [0., 1., 0., 0.],\n",
       "        [0., 1., 0., 0.],\n",
       "        [0., 0., 1., 0.],\n",
       "        [0., 0., 1., 0.],\n",
       "        [0., 0., 1., 0.],\n",
       "        [0., 0., 1., 0.],\n",
       "        [0., 0., 0., 1.],\n",
       "        [0., 0., 0., 1.],\n",
       "        [0., 0., 0., 1.],\n",
       "        [0., 0., 0., 1.],\n",
       "        [1., 0., 0., 0.],\n",
       "        [1., 0., 0., 0.],\n",
       "        [1., 0., 0., 0.],\n",
       "        [1., 0., 0., 0.]],\n",
       "\n",
       "       [[1., 0., 0., 0.],\n",
       "        [1., 0., 0., 0.],\n",
       "        [1., 0., 0., 0.],\n",
       "        [1., 0., 0., 0.],\n",
       "        [0., 1., 0., 0.],\n",
       "        [0., 1., 0., 0.],\n",
       "        [0., 1., 0., 0.],\n",
       "        [0., 1., 0., 0.],\n",
       "        [0., 0., 1., 0.],\n",
       "        [0., 0., 1., 0.],\n",
       "        [0., 0., 1., 0.],\n",
       "        [0., 0., 1., 0.],\n",
       "        [0., 0., 0., 1.],\n",
       "        [0., 0., 0., 1.],\n",
       "        [0., 0., 0., 1.],\n",
       "        [0., 0., 0., 1.],\n",
       "        [1., 0., 0., 0.],\n",
       "        [1., 0., 0., 0.],\n",
       "        [1., 0., 0., 0.],\n",
       "        [1., 0., 0., 0.]]])"
      ]
     },
     "execution_count": 44,
     "metadata": {},
     "output_type": "execute_result"
    }
   ],
   "source": [
    "batch_size = 2\n",
    "sub_beats = 4\n",
    "seq_length = 20\n",
    "beats_sparse = [i // sub_beats % sub_beats for i in range(seq_length)]\n",
    "# beats_sparse = [i % sub_beats for i in range(seq_length)]\n",
    "beat_indicators = np.zeros((batch_size, seq_length, 4))\n",
    "beat_indicators[:, [i for i in range(seq_length)], beats_sparse] = 1\n",
    "# [i // sub_beats % sub_beats for i in range(seq_length)]\n",
    "beat_indicators"
   ]
  },
  {
   "cell_type": "code",
   "execution_count": null,
   "metadata": {},
   "outputs": [],
   "source": [
    "\n",
    "model_datas_train, seconds = data.folder2examples('training_data/midi_train' + config['data_folder_prefix'], sparse=False,\n",
    "                                                  use_base_key=config['use_base_key'], beats_per_ex=int(config['seq_length'] / config['sub_beats']),\n",
    "                                                  nth_file=8, vel_cutoff=config['vel_cutoff'], sub_beats=config['sub_beats'])"
   ]
  },
  {
   "cell_type": "code",
   "execution_count": null,
   "metadata": {},
   "outputs": [],
   "source": []
  },
  {
   "cell_type": "code",
   "execution_count": 6,
   "metadata": {},
   "outputs": [
    {
     "name": "stdout",
     "output_type": "stream",
     "text": [
      "None\n"
     ]
    }
   ],
   "source": [
    "models.get_model_reqs(model_inputs='all', model_outputs='all', sub_beats=2, seq_length=10)"
   ]
  },
  {
   "cell_type": "code",
   "execution_count": 9,
   "metadata": {},
   "outputs": [
    {
     "name": "stdout",
     "output_type": "stream",
     "text": [
      "None\n"
     ]
    }
   ],
   "source": [
    "\n",
    "n_notes=88\n",
    "sub_beats=2\n",
    "seq_length=50\n",
    "model_input = namedtuple('input', 'name dim seq md ohe transposable') \n",
    "model_output = namedtuple('output', 'name dim activation seq md ohe transposable') \n",
    "\n",
    "# model input requirements\n",
    "model_input_reqs_unfiltered = [\n",
    "                            ### HOV inputs\n",
    "                            model_input('H', n_notes, True, True, ohe=False, transposable=True),\n",
    "                            model_input('tempo', 1, False, True, ohe=False, transposable=False),\n",
    "                            model_input('key', 12, False, True, ohe=True, transposable=True),\n",
    "                            model_input('V_mean', 1, False, True, ohe=False, transposable=False),\n",
    "                            model_input('beat_indicators', 4, True, False, ohe=True, transposable=False),\n",
    "                            model_input('sub_beat_indicators', sub_beats, True, False, ohe=True, transposable=False),\n",
    "\n",
    "                            ### nbq inputs\n",
    "                            model_input('TSn', seq_length, True, True, ohe=True, transposable=False), # note starts in sub beats\n",
    "                            model_input('TEn', seq_length, True, True, ohe=True, transposable=False), # note ends in sub beats\n",
    "                            model_input('TBn', 4, True, True, ohe=False, transposable=False), # note starts in beats of bar \n",
    "                            model_input('TSBn', sub_beats, True, True, ohe=True, transposable=False), # note starts in sub beats of beat\n",
    "                            model_input('Pn', n_notes, True, True, ohe=True, transposable=True), # pitch\n",
    "                            model_input('PCn', 12, True, True, ohe=True, transposable=True)] # pitch class\n",
    "\n",
    "# model output requirements\n",
    "model_output_reqs_unfiltered = [\n",
    "                                ### HOV inputs\n",
    "                                model_output('H', n_notes, 'sigmoid', True, True, ohe=False, transposable=True),\n",
    "                                model_output('O', n_notes, 'tanh', True, True, ohe=False, transposable=True),\n",
    "                                model_output('V', n_notes, 'sigmoid', True, True, ohe=False, transposable=True),\n",
    "\n",
    "                                # nbq outputs\n",
    "                                model_output('TEn', seq_length, 'softmax', True, True, ohe=True, transposable=False),\n",
    "                                model_output('Vn', 1, 'sigmoid', True, True, ohe=False, transposable=False)]\n",
    "\n",
    "\n",
    "print({m_input.name: m_input for m_input in model_input_reqs_unfiltered}.update({m_output.name: m_output for m_output in model_output_reqs_unfiltered}))\n"
   ]
  },
  {
   "cell_type": "code",
   "execution_count": 35,
   "metadata": {},
   "outputs": [],
   "source": [
    "pm = pretty_midi.PrettyMIDI('training_data/midi_train_8/fp_110_Am.mid')\n",
    "nbq = midi_utils.pm2nbq(pm, key='Am')\n",
    "pm2 = data.nbq2pm({k: v[10] for k, v in nbq.items()})\n",
    "pm2.write('nbqtest.mid')"
   ]
  },
  {
   "cell_type": "code",
   "execution_count": 69,
   "metadata": {},
   "outputs": [
    {
     "name": "stderr",
     "output_type": "stream",
     "text": [
      "100%|██████████| 16/16 [00:05<00:00,  2.99it/s]"
     ]
    },
    {
     "name": "stdout",
     "output_type": "stream",
     "text": [
      "00h 43m 51s of data\n",
      "created model data TSn :    (50,) data shape,     278 training examples\n",
      "created model data TEn :    (50,) data shape,     278 training examples\n",
      "created model data TBn :    (50, 4) data shape,     278 training examples\n",
      "created model data TMn :    (50, 16) data shape,     278 training examples\n",
      "created model data TSBn :    (50, 2) data shape,     278 training examples\n",
      "created model data Pn :    (50, 88) data shape,     278 training examples\n",
      "created model data PSn :    (50, 1) data shape,     278 training examples\n",
      "created model data PCn :    (50, 12) data shape,     278 training examples\n",
      "created model data Vn :    (50, 1) data shape,     278 training examples\n",
      "created model data tempo :    (1,) data shape,     278 training examples\n",
      "created model data key :    (12,) data shape,     278 training examples\n",
      "created model data V_mean :    (1,) data shape,     278 training examples\n"
     ]
    },
    {
     "name": "stderr",
     "output_type": "stream",
     "text": [
      "\n"
     ]
    }
   ],
   "source": [
    "model_datas_train, seconds = data.folder2nbq('training_data/midi_train' + '_8', \n",
    "                                            return_ModelData_object=True,\n",
    "                                            seq_length=50, \n",
    "                                            sub_beats=2, \n",
    "                                            example_bars_skip=4, \n",
    "                                            use_base_key=False, \n",
    "                                            nth_file=15, \n",
    "                                            vel_cutoff=5)\n"
   ]
  },
  {
   "cell_type": "code",
   "execution_count": 40,
   "metadata": {},
   "outputs": [],
   "source": [
    "model_inputs = ['Pn', 'TBn', 'TSBn']\n",
    "model_outputs = ['Vn']\n",
    "model_input_reqs, model_output_reqs = models.get_model_reqs(model_inputs, model_outputs, sub_beats=sub_beats)\n",
    "dg = ml_classes.ModelDataGenerator([md for md in model_datas_train.values()],\n",
    "                                        [model_in.name for model_in in model_input_reqs if model_in.md],\n",
    "                                        [model_out.name for model_out in model_output_reqs if model_out.md],\n",
    "                                        t_force=True, batch_size = 64, seq_length=seq_length,\n",
    "                                        sub_beats=sub_beats, V_no_zeros=False)"
   ]
  },
  {
   "cell_type": "code",
   "execution_count": 49,
   "metadata": {},
   "outputs": [],
   "source": [
    "random_examples, idx = data.n_rand_examples(model_datas_train, n=64)"
   ]
  },
  {
   "cell_type": "code",
   "execution_count": 70,
   "metadata": {},
   "outputs": [],
   "source": [
    "batch_size = 64\n",
    "random_examples, idx = data.n_rand_examples(model_datas_train, n=batch_size)\n",
    "\n",
    "# find axis that corresponds to velocity\n",
    "\n",
    "model_datas_pred = copy.deepcopy(model_datas_train)\n",
    "model_datas_pred['Vn'].data[idx,...] = 0.15\n",
    "path = 'test2/'\n",
    "os.mkdir(path + 'midi/')\n",
    "for i in idx:\n",
    "    mds_orig = {md.name: md.data[i] for k, md in model_datas_train.items()}\n",
    "    mds_pred = {md.name: md.data[i] for k, md in model_datas_pred.items()}\n",
    "    pm_original = data.nbq2pm(mds_orig)\n",
    "    pm_pred = data.nbq2pm(mds_pred)\n",
    "    pm_original.write(path + 'midi/' + f'ex{i}original.mid')\n",
    "    pm_pred.write(path + 'midi/' + f'ex{i}prediction_teacher_forced.mid')"
   ]
  },
  {
   "cell_type": "code",
   "execution_count": 55,
   "metadata": {},
   "outputs": [
    {
     "data": {
      "text/plain": [
       "{'H': <src.ml_classes.ModelData at 0x7f4f5a35e070>,\n",
       " 'O': <src.ml_classes.ModelData at 0x7f4f5a35e220>,\n",
       " 'V': <src.ml_classes.ModelData at 0x7f4f5a35e4c0>,\n",
       " 'R': <src.ml_classes.ModelData at 0x7f4f5a35e580>,\n",
       " 'S': <src.ml_classes.ModelData at 0x7f4f5a35e4f0>,\n",
       " 'tempo': <src.ml_classes.ModelData at 0x7f4fc476c2e0>,\n",
       " 'key': <src.ml_classes.ModelData at 0x7f4f5a35e550>,\n",
       " 'V_mean': <src.ml_classes.ModelData at 0x7f4f5a35e0a0>}"
      ]
     },
     "execution_count": 55,
     "metadata": {},
     "output_type": "execute_result"
    }
   ],
   "source": [
    "model_datas_val"
   ]
  },
  {
   "cell_type": "code",
   "execution_count": 65,
   "metadata": {},
   "outputs": [
    {
     "data": {
      "text/plain": [
       "['dummy',\n",
       " 'TSn_in',\n",
       " 'TEn_in',\n",
       " 'TBn_in',\n",
       " 'TBn_ar',\n",
       " 'TMn_in',\n",
       " 'TMn_ar',\n",
       " 'TSBn_in',\n",
       " 'TSBn_ar',\n",
       " 'Pn_in',\n",
       " 'Pn_ar',\n",
       " 'PSn_in',\n",
       " 'PSn_ar',\n",
       " 'PCn_in',\n",
       " 'PCn_ar',\n",
       " 'Vn_in',\n",
       " 'Vn_ar',\n",
       " 'tempo_in',\n",
       " 'key_in',\n",
       " 'V_mean_in']"
      ]
     },
     "execution_count": 65,
     "metadata": {},
     "output_type": "execute_result"
    }
   ],
   "source": [
    "[md for md in random_examples.keys()]"
   ]
  }
 ],
 "metadata": {
  "kernelspec": {
   "display_name": "Python 3",
   "language": "python",
   "name": "python3"
  },
  "language_info": {
   "codemirror_mode": {
    "name": "ipython",
    "version": 3
   },
   "file_extension": ".py",
   "mimetype": "text/x-python",
   "name": "python",
   "nbconvert_exporter": "python",
   "pygments_lexer": "ipython3",
   "version": "3.8.3"
  }
 },
 "nbformat": 4,
 "nbformat_minor": 4
}
