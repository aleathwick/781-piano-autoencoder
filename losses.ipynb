{
 "cells": [
  {
   "cell_type": "code",
   "execution_count": 3,
   "metadata": {},
   "outputs": [],
   "source": [
    "from importlib import reload\n",
    "import pymongo\n",
    "import gridfs\n",
    "import numpy as np\n",
    "import os\n",
    "os.environ['CUDA_VISIBLE_DEVICES'] = '-1'\n",
    "from scipy.sparse import csc_matrix, csr_matrix\n",
    "import pickle\n",
    "import pretty_midi\n",
    "import sys\n",
    "import copy\n",
    "from collections import namedtuple\n",
    "import timeit\n",
    "import matplotlib.pyplot as plt\n",
    "import tensorflow as tf\n",
    "from tensorflow.keras import layers\n",
    "import pandas as pd\n",
    "from IPython.display import clear_output\n",
    "from ipywidgets import interact, interactive, fixed, interact_manual\n",
    "import ipywidgets as widgets"
   ]
  },
  {
   "cell_type": "code",
   "execution_count": 16,
   "metadata": {},
   "outputs": [
    {
     "data": {
      "text/plain": [
       "<module 'src.losses' from '/storage/781-piano-autoencoder/src/losses.py'>"
      ]
     },
     "execution_count": 16,
     "metadata": {},
     "output_type": "execute_result"
    }
   ],
   "source": [
    "# import modules, including a reload statement so that they can be reimported after a change to the methods \n",
    "import src.midi_utils as midi_utils\n",
    "reload(midi_utils)\n",
    "\n",
    "import src.data as data\n",
    "reload(data)\n",
    "\n",
    "import src.models as models\n",
    "reload(models)\n",
    "\n",
    "import src.ml_classes as ml_classes\n",
    "reload(ml_classes)\n",
    "\n",
    "import src.exp_utils as exp_utils\n",
    "reload(exp_utils)\n",
    "\n",
    "import src.losses as losses\n",
    "reload(losses)"
   ]
  },
  {
   "cell_type": "markdown",
   "metadata": {},
   "source": [
    "## Examining hyperparameters: plotting metrics from different training runs "
   ]
  },
  {
   "cell_type": "markdown",
   "metadata": {},
   "source": [
    "### Testing different MSE weights\n",
    "344-348\n",
    "Different MSE weights\n",
    "Testing different velocity weights (with V MSE). 10^4 seems best balance - increasing velocity weight above that worsens H metrics a lot, with little gain for V - in fact, validation gets worse after that!"
   ]
  },
  {
   "cell_type": "code",
   "execution_count": 33,
   "metadata": {},
   "outputs": [
    {
     "data": {
      "application/vnd.jupyter.widget-view+json": {
       "model_id": "b74c1fc6a1bb475e9a12907f488611a8",
       "version_major": 2,
       "version_minor": 0
      },
      "text/plain": [
       "VBox(children=(Checkbox(value=False, description='loss'), Checkbox(value=False, description='H_out_loss'), Che…"
      ]
     },
     "metadata": {},
     "output_type": "display_data"
    }
   ],
   "source": [
    "### set up\n",
    "id_list = [i for i in range(344, 349)] # runs of interest\n",
    "x = 'loss_weights' # hyperparameter of interest - will be plotted on x axis\n",
    "data.plot_sacred_runs(id_list, x, parameter_is_list=True,index_of_interest=-1)"
   ]
  },
  {
   "cell_type": "markdown",
   "metadata": {},
   "source": [
    "### Overfitting with Large Network\n",
    "387\n",
    "Using hidden state size of 400. 2 bidirectional, 1 unidirectional layers."
   ]
  },
  {
   "cell_type": "code",
   "execution_count": 17,
   "metadata": {},
   "outputs": [
    {
     "data": {
      "application/vnd.jupyter.widget-view+json": {
       "model_id": "a2ba1d57780b47e2a51b5bb341a9666f",
       "version_major": 2,
       "version_minor": 0
      },
      "text/plain": [
       "VBox(children=(Checkbox(value=False, description='loss'), Checkbox(value=False, description='accuracy'), Check…"
      ]
     },
     "metadata": {},
     "output_type": "display_data"
    }
   ],
   "source": [
    "### set up\n",
    "id_list = [387] # runs of interest\n",
    "x = None # hyperparameter of interest - will be plotted on x axis\n",
    "data.plot_sacred_training(id_list, x, plot_params={'title': 'Overfitting'})"
   ]
  },
  {
   "cell_type": "markdown",
   "metadata": {},
   "source": [
    "### testing different recurrent dropouts\n",
    "387, 389-394  \n",
    "Using hidden state size of 400. 2 bidirectional, 1 unidirectional layers.  \n",
    "0.3 recurrent dropout clearly does the best."
   ]
  },
  {
   "cell_type": "code",
   "execution_count": 59,
   "metadata": {},
   "outputs": [
    {
     "data": {
      "application/vnd.jupyter.widget-view+json": {
       "model_id": "ae3d79f7f7f84886a90de216d4c27722",
       "version_major": 2,
       "version_minor": 0
      },
      "text/plain": [
       "VBox(children=(Checkbox(value=False, description='loss'), Checkbox(value=False, description='mse'), Checkbox(v…"
      ]
     },
     "metadata": {},
     "output_type": "display_data"
    },
    {
     "data": {
      "text/html": [
       "<div>\n",
       "<style scoped>\n",
       "    .dataframe tbody tr th:only-of-type {\n",
       "        vertical-align: middle;\n",
       "    }\n",
       "\n",
       "    .dataframe tbody tr th {\n",
       "        vertical-align: top;\n",
       "    }\n",
       "\n",
       "    .dataframe thead th {\n",
       "        text-align: right;\n",
       "    }\n",
       "</style>\n",
       "<table border=\"1\" class=\"dataframe\">\n",
       "  <thead>\n",
       "    <tr style=\"text-align: right;\">\n",
       "      <th></th>\n",
       "      <th>recurrent_dropout</th>\n",
       "      <th>loss</th>\n",
       "      <th>mse</th>\n",
       "      <th>val_loss</th>\n",
       "      <th>val_mse</th>\n",
       "      <th>accuracy</th>\n",
       "      <th>val_accuracy</th>\n",
       "      <th>epochs</th>\n",
       "    </tr>\n",
       "  </thead>\n",
       "  <tbody>\n",
       "    <tr>\n",
       "      <th>387</th>\n",
       "      <td>0.0</td>\n",
       "      <td>0.000880</td>\n",
       "      <td>0.000880</td>\n",
       "      <td>0.006014</td>\n",
       "      <td>0.006014</td>\n",
       "      <td>0.0</td>\n",
       "      <td>0.0</td>\n",
       "      <td>97</td>\n",
       "    </tr>\n",
       "    <tr>\n",
       "      <th>389</th>\n",
       "      <td>0.3</td>\n",
       "      <td>0.001448</td>\n",
       "      <td>0.001448</td>\n",
       "      <td>0.005408</td>\n",
       "      <td>0.005408</td>\n",
       "      <td>0.0</td>\n",
       "      <td>0.0</td>\n",
       "      <td>126</td>\n",
       "    </tr>\n",
       "    <tr>\n",
       "      <th>391</th>\n",
       "      <td>0.1</td>\n",
       "      <td>0.001142</td>\n",
       "      <td>0.001142</td>\n",
       "      <td>0.005808</td>\n",
       "      <td>0.005808</td>\n",
       "      <td>0.0</td>\n",
       "      <td>0.0</td>\n",
       "      <td>109</td>\n",
       "    </tr>\n",
       "    <tr>\n",
       "      <th>392</th>\n",
       "      <td>0.2</td>\n",
       "      <td>0.000866</td>\n",
       "      <td>0.000866</td>\n",
       "      <td>0.005552</td>\n",
       "      <td>0.005552</td>\n",
       "      <td>0.0</td>\n",
       "      <td>0.0</td>\n",
       "      <td>123</td>\n",
       "    </tr>\n",
       "    <tr>\n",
       "      <th>393</th>\n",
       "      <td>0.4</td>\n",
       "      <td>0.001760</td>\n",
       "      <td>0.001760</td>\n",
       "      <td>0.005445</td>\n",
       "      <td>0.005445</td>\n",
       "      <td>0.0</td>\n",
       "      <td>0.0</td>\n",
       "      <td>126</td>\n",
       "    </tr>\n",
       "    <tr>\n",
       "      <th>394</th>\n",
       "      <td>0.5</td>\n",
       "      <td>0.002395</td>\n",
       "      <td>0.002395</td>\n",
       "      <td>0.005459</td>\n",
       "      <td>0.005459</td>\n",
       "      <td>0.0</td>\n",
       "      <td>0.0</td>\n",
       "      <td>128</td>\n",
       "    </tr>\n",
       "  </tbody>\n",
       "</table>\n",
       "</div>"
      ],
      "text/plain": [
       "     recurrent_dropout      loss       mse  val_loss   val_mse  accuracy  \\\n",
       "387                0.0  0.000880  0.000880  0.006014  0.006014       0.0   \n",
       "389                0.3  0.001448  0.001448  0.005408  0.005408       0.0   \n",
       "391                0.1  0.001142  0.001142  0.005808  0.005808       0.0   \n",
       "392                0.2  0.000866  0.000866  0.005552  0.005552       0.0   \n",
       "393                0.4  0.001760  0.001760  0.005445  0.005445       0.0   \n",
       "394                0.5  0.002395  0.002395  0.005459  0.005459       0.0   \n",
       "\n",
       "     val_accuracy  epochs  \n",
       "387           0.0      97  \n",
       "389           0.0     126  \n",
       "391           0.0     109  \n",
       "392           0.0     123  \n",
       "393           0.0     126  \n",
       "394           0.0     128  "
      ]
     },
     "execution_count": 59,
     "metadata": {},
     "output_type": "execute_result"
    }
   ],
   "source": [
    "### set up\n",
    "id_list = [i for i in range(389, 395)] + [387] # runs of interest\n",
    "x = 'recurrent_dropout' # hyperparameter of interest - will be plotted on x axis\n",
    "data.plot_sacred_runs(id_list, x, plot_params={'title': 'Recurrent Dropout vs Validation Loss', 'figsize': (7,7)}, return_df=True)"
   ]
  },
  {
   "cell_type": "code",
   "execution_count": 39,
   "metadata": {},
   "outputs": [
    {
     "data": {
      "application/vnd.jupyter.widget-view+json": {
       "model_id": "60132485e267473c85b6feacaeac9588",
       "version_major": 2,
       "version_minor": 0
      },
      "text/plain": [
       "VBox(children=(Checkbox(value=False, description='loss'), Checkbox(value=False, description='accuracy'), Check…"
      ]
     },
     "metadata": {},
     "output_type": "display_data"
    }
   ],
   "source": [
    "### compare training for 0.0 and 0.3 dropout\n",
    "id_list = [387, 389] # runs of interest\n",
    "x = 'recurrent_dropout' # hyperparameter of interest - will be plotted on x axis\n",
    "data.plot_sacred_training(id_list, x, plot_params={'title': 'Effect of Recurrent Dropout on Training', 'figsize': (7,7)})"
   ]
  },
  {
   "cell_type": "markdown",
   "metadata": {},
   "source": [
    "### testing different hidden state sizes\n",
    "372-379  \n",
    "3 layer model: testing hidden state size. Not big differences. go with 400. Not much worse than 4 layer model."
   ]
  },
  {
   "cell_type": "code",
   "execution_count": 62,
   "metadata": {},
   "outputs": [
    {
     "data": {
      "application/vnd.jupyter.widget-view+json": {
       "model_id": "6250083338c94119bb0c5b48bede6f14",
       "version_major": 2,
       "version_minor": 0
      },
      "text/plain": [
       "VBox(children=(Checkbox(value=False, description='loss'), Checkbox(value=False, description='mse'), Checkbox(v…"
      ]
     },
     "metadata": {},
     "output_type": "display_data"
    }
   ],
   "source": [
    "### set up\n",
    "id_list = [i for i in range(372, 380)] # runs of interest\n",
    "x = 'hidden_state' # hyperparameter of interest - will be plotted on x axis\n",
    "data.plot_sacred_runs(id_list, x)"
   ]
  },
  {
   "cell_type": "markdown",
   "metadata": {},
   "source": [
    "### testing small models, 0.4 dropout - Old dataset\n",
    "405-417  \n",
    "testing small models - 48 state size overfits. 24 is best - finally doesn't overfit.  \n",
    "Note that 387 is the first run using the old dataset"
   ]
  },
  {
   "cell_type": "code",
   "execution_count": 61,
   "metadata": {},
   "outputs": [
    {
     "data": {
      "application/vnd.jupyter.widget-view+json": {
       "model_id": "df6b50479366455b851bef6a0b617dc5",
       "version_major": 2,
       "version_minor": 0
      },
      "text/plain": [
       "VBox(children=(Checkbox(value=False, description='loss'), Checkbox(value=False, description='mse'), Checkbox(v…"
      ]
     },
     "metadata": {},
     "output_type": "display_data"
    },
    {
     "data": {
      "text/html": [
       "<div>\n",
       "<style scoped>\n",
       "    .dataframe tbody tr th:only-of-type {\n",
       "        vertical-align: middle;\n",
       "    }\n",
       "\n",
       "    .dataframe tbody tr th {\n",
       "        vertical-align: top;\n",
       "    }\n",
       "\n",
       "    .dataframe thead th {\n",
       "        text-align: right;\n",
       "    }\n",
       "</style>\n",
       "<table border=\"1\" class=\"dataframe\">\n",
       "  <thead>\n",
       "    <tr style=\"text-align: right;\">\n",
       "      <th></th>\n",
       "      <th>hidden_state</th>\n",
       "      <th>loss</th>\n",
       "      <th>mse</th>\n",
       "      <th>val_loss</th>\n",
       "      <th>val_mse</th>\n",
       "      <th>accuracy</th>\n",
       "      <th>val_accuracy</th>\n",
       "      <th>epochs</th>\n",
       "    </tr>\n",
       "  </thead>\n",
       "  <tbody>\n",
       "    <tr>\n",
       "      <th>400</th>\n",
       "      <td>200</td>\n",
       "      <td>0.002411</td>\n",
       "      <td>0.002411</td>\n",
       "      <td>0.005564</td>\n",
       "      <td>0.005564</td>\n",
       "      <td>0.0</td>\n",
       "      <td>0.0</td>\n",
       "      <td>112</td>\n",
       "    </tr>\n",
       "    <tr>\n",
       "      <th>405</th>\n",
       "      <td>2</td>\n",
       "      <td>0.007591</td>\n",
       "      <td>0.007591</td>\n",
       "      <td>0.006967</td>\n",
       "      <td>0.006967</td>\n",
       "      <td>0.0</td>\n",
       "      <td>0.0</td>\n",
       "      <td>820</td>\n",
       "    </tr>\n",
       "    <tr>\n",
       "      <th>406</th>\n",
       "      <td>3</td>\n",
       "      <td>0.007151</td>\n",
       "      <td>0.007151</td>\n",
       "      <td>0.006712</td>\n",
       "      <td>0.006712</td>\n",
       "      <td>0.0</td>\n",
       "      <td>0.0</td>\n",
       "      <td>511</td>\n",
       "    </tr>\n",
       "    <tr>\n",
       "      <th>407</th>\n",
       "      <td>4</td>\n",
       "      <td>0.006655</td>\n",
       "      <td>0.006655</td>\n",
       "      <td>0.006222</td>\n",
       "      <td>0.006222</td>\n",
       "      <td>0.0</td>\n",
       "      <td>0.0</td>\n",
       "      <td>1447</td>\n",
       "    </tr>\n",
       "    <tr>\n",
       "      <th>408</th>\n",
       "      <td>5</td>\n",
       "      <td>0.006475</td>\n",
       "      <td>0.006475</td>\n",
       "      <td>0.006049</td>\n",
       "      <td>0.006049</td>\n",
       "      <td>0.0</td>\n",
       "      <td>0.0</td>\n",
       "      <td>797</td>\n",
       "    </tr>\n",
       "    <tr>\n",
       "      <th>409</th>\n",
       "      <td>6</td>\n",
       "      <td>0.006311</td>\n",
       "      <td>0.006311</td>\n",
       "      <td>0.005794</td>\n",
       "      <td>0.005794</td>\n",
       "      <td>0.0</td>\n",
       "      <td>0.0</td>\n",
       "      <td>861</td>\n",
       "    </tr>\n",
       "    <tr>\n",
       "      <th>410</th>\n",
       "      <td>7</td>\n",
       "      <td>0.005877</td>\n",
       "      <td>0.005877</td>\n",
       "      <td>0.005739</td>\n",
       "      <td>0.005739</td>\n",
       "      <td>0.0</td>\n",
       "      <td>0.0</td>\n",
       "      <td>1500</td>\n",
       "    </tr>\n",
       "    <tr>\n",
       "      <th>414</th>\n",
       "      <td>12</td>\n",
       "      <td>0.005372</td>\n",
       "      <td>0.005372</td>\n",
       "      <td>0.005534</td>\n",
       "      <td>0.005534</td>\n",
       "      <td>0.0</td>\n",
       "      <td>0.0</td>\n",
       "      <td>1158</td>\n",
       "    </tr>\n",
       "    <tr>\n",
       "      <th>415</th>\n",
       "      <td>24</td>\n",
       "      <td>0.004857</td>\n",
       "      <td>0.004857</td>\n",
       "      <td>0.005303</td>\n",
       "      <td>0.005303</td>\n",
       "      <td>0.0</td>\n",
       "      <td>0.0</td>\n",
       "      <td>469</td>\n",
       "    </tr>\n",
       "    <tr>\n",
       "      <th>416</th>\n",
       "      <td>48</td>\n",
       "      <td>0.003463</td>\n",
       "      <td>0.003463</td>\n",
       "      <td>0.005487</td>\n",
       "      <td>0.005487</td>\n",
       "      <td>0.0</td>\n",
       "      <td>0.0</td>\n",
       "      <td>358</td>\n",
       "    </tr>\n",
       "  </tbody>\n",
       "</table>\n",
       "</div>"
      ],
      "text/plain": [
       "     hidden_state      loss       mse  val_loss   val_mse  accuracy  \\\n",
       "400           200  0.002411  0.002411  0.005564  0.005564       0.0   \n",
       "405             2  0.007591  0.007591  0.006967  0.006967       0.0   \n",
       "406             3  0.007151  0.007151  0.006712  0.006712       0.0   \n",
       "407             4  0.006655  0.006655  0.006222  0.006222       0.0   \n",
       "408             5  0.006475  0.006475  0.006049  0.006049       0.0   \n",
       "409             6  0.006311  0.006311  0.005794  0.005794       0.0   \n",
       "410             7  0.005877  0.005877  0.005739  0.005739       0.0   \n",
       "414            12  0.005372  0.005372  0.005534  0.005534       0.0   \n",
       "415            24  0.004857  0.004857  0.005303  0.005303       0.0   \n",
       "416            48  0.003463  0.003463  0.005487  0.005487       0.0   \n",
       "\n",
       "     val_accuracy  epochs  \n",
       "400           0.0     112  \n",
       "405           0.0     820  \n",
       "406           0.0     511  \n",
       "407           0.0    1447  \n",
       "408           0.0     797  \n",
       "409           0.0     861  \n",
       "410           0.0    1500  \n",
       "414           0.0    1158  \n",
       "415           0.0     469  \n",
       "416           0.0     358  "
      ]
     },
     "execution_count": 61,
     "metadata": {},
     "output_type": "execute_result"
    }
   ],
   "source": [
    "### set up\n",
    "id_list = [i for i in range(405, 417)] + [400] # runs of interest\n",
    "x = 'hidden_state' # hyperparameter of interest - will be plotted on x axis\n",
    "data.plot_sacred_runs(id_list, x, return_df = True, plot_params={'title': 'Hidden State Size vs Loss',\n",
    "                                                                'figsize': (7,7)})"
   ]
  },
  {
   "cell_type": "code",
   "execution_count": 55,
   "metadata": {},
   "outputs": [
    {
     "data": {
      "application/vnd.jupyter.widget-view+json": {
       "model_id": "e909c369c61b451da754f955a7844604",
       "version_major": 2,
       "version_minor": 0
      },
      "text/plain": [
       "VBox(children=(Checkbox(value=False, description='loss'), Checkbox(value=False, description='accuracy'), Check…"
      ]
     },
     "metadata": {},
     "output_type": "display_data"
    }
   ],
   "source": [
    "### set up\n",
    "id_list = [407, 416, 415] # runs of interest\n",
    "x = 'hidden_state' # hyperparameter of interest - will be plotted on x axis\n",
    "df = data.plot_sacred_training(id_list, x, return_df = True,\n",
    "                          plot_params={'title': 'Effect of Hidden State Size on Training', 'figsize': (7,7)},\n",
    "                                        epoch_lim=500)"
   ]
  },
  {
   "cell_type": "code",
   "execution_count": 171,
   "metadata": {},
   "outputs": [
    {
     "data": {
      "application/vnd.jupyter.widget-view+json": {
       "model_id": "bbdb742b4d044eab902e8278421295cc",
       "version_major": 2,
       "version_minor": 0
      },
      "text/plain": [
       "VBox(children=(Checkbox(value=False, description='loss'), Checkbox(value=False, description='mse'), Checkbox(v…"
      ]
     },
     "metadata": {},
     "output_type": "display_data"
    }
   ],
   "source": [
    "### Non dropout\n",
    "id_list = [i for i in range(418, 424)] # runs of interest\n",
    "x = 'hidden_state' # hyperparameter of interest - will be plotted on x axis\n",
    "data.plot_sacred_runs(id_list, x)"
   ]
  },
  {
   "cell_type": "code",
   "execution_count": 172,
   "metadata": {},
   "outputs": [
    {
     "data": {
      "application/vnd.jupyter.widget-view+json": {
       "model_id": "80f192823b384e27a4cb3b0737e3794f",
       "version_major": 2,
       "version_minor": 0
      },
      "text/plain": [
       "VBox(children=(Checkbox(value=False, description='loss'), Checkbox(value=False, description='mse'), Checkbox(v…"
      ]
     },
     "metadata": {},
     "output_type": "display_data"
    }
   ],
   "source": [
    "### Pn only models, testing how they compare to PCn PSn models in 418 to 423\n",
    "id_list = [i for i in range(424, 432)] + [i for i in range(418, 424)] # runs of interest\n",
    "x = 'hidden_state' # hyperparameter of interest - will be plotted on x axis\n",
    "data.plot_sacred_runs(id_list, x, split='model_inputs')"
   ]
  },
  {
   "cell_type": "code",
   "execution_count": 140,
   "metadata": {},
   "outputs": [
    {
     "data": {
      "application/vnd.jupyter.widget-view+json": {
       "model_id": "b85662b8bf044cb4a110cc33c03833de",
       "version_major": 2,
       "version_minor": 0
      },
      "text/plain": [
       "VBox(children=(Checkbox(value=False, description='loss'), Checkbox(value=False, description='mse'), Checkbox(v…"
      ]
     },
     "metadata": {},
     "output_type": "display_data"
    }
   ],
   "source": [
    "### Pn only models, testing how they compare to PCn PSn models in 418 to 423\n",
    "id_list = [i for i in range(418, 441)] # runs of interest\n",
    "x = 'hidden_state' # hyperparameter of interest - will be plotted on x axis\n",
    "split = 'model_inputs'\n",
    "data.plot_sacred_runs(id_list, x, split=split)"
   ]
  },
  {
   "cell_type": "markdown",
   "metadata": {},
   "source": [
    "### testing different inputs\n",
    "418:424 with beat indicators vs 442:449 without\n",
    "Actually, use 442:457 - retrained some with beat indicators"
   ]
  },
  {
   "cell_type": "code",
   "execution_count": 50,
   "metadata": {},
   "outputs": [
    {
     "data": {
      "application/vnd.jupyter.widget-view+json": {
       "model_id": "a3bf9b2cb1e24bd985614a1e4f439f72",
       "version_major": 2,
       "version_minor": 0
      },
      "text/plain": [
       "VBox(children=(Checkbox(value=False, description='loss'), Checkbox(value=False, description='mse'), Checkbox(v…"
      ]
     },
     "metadata": {},
     "output_type": "display_data"
    },
    {
     "data": {
      "text/html": [
       "<div>\n",
       "<style scoped>\n",
       "    .dataframe tbody tr th:only-of-type {\n",
       "        vertical-align: middle;\n",
       "    }\n",
       "\n",
       "    .dataframe tbody tr th {\n",
       "        vertical-align: top;\n",
       "    }\n",
       "\n",
       "    .dataframe thead th {\n",
       "        text-align: right;\n",
       "    }\n",
       "</style>\n",
       "<table border=\"1\" class=\"dataframe\">\n",
       "  <thead>\n",
       "    <tr style=\"text-align: right;\">\n",
       "      <th></th>\n",
       "      <th>hidden_state</th>\n",
       "      <th>loss</th>\n",
       "      <th>mse</th>\n",
       "      <th>val_loss</th>\n",
       "      <th>val_mse</th>\n",
       "      <th>accuracy</th>\n",
       "      <th>val_accuracy</th>\n",
       "      <th>model_inputs</th>\n",
       "      <th>epochs</th>\n",
       "    </tr>\n",
       "  </thead>\n",
       "  <tbody>\n",
       "    <tr>\n",
       "      <th>442</th>\n",
       "      <td>4</td>\n",
       "      <td>0.007460</td>\n",
       "      <td>0.007460</td>\n",
       "      <td>0.006855</td>\n",
       "      <td>0.006855</td>\n",
       "      <td>0.0</td>\n",
       "      <td>0.0</td>\n",
       "      <td>['PSn', 'PCn']</td>\n",
       "      <td>852</td>\n",
       "    </tr>\n",
       "    <tr>\n",
       "      <th>443</th>\n",
       "      <td>6</td>\n",
       "      <td>0.007326</td>\n",
       "      <td>0.007326</td>\n",
       "      <td>0.006736</td>\n",
       "      <td>0.006736</td>\n",
       "      <td>0.0</td>\n",
       "      <td>0.0</td>\n",
       "      <td>['PSn', 'PCn']</td>\n",
       "      <td>599</td>\n",
       "    </tr>\n",
       "    <tr>\n",
       "      <th>444</th>\n",
       "      <td>8</td>\n",
       "      <td>0.007398</td>\n",
       "      <td>0.007398</td>\n",
       "      <td>0.006685</td>\n",
       "      <td>0.006685</td>\n",
       "      <td>0.0</td>\n",
       "      <td>0.0</td>\n",
       "      <td>['PSn', 'PCn']</td>\n",
       "      <td>308</td>\n",
       "    </tr>\n",
       "    <tr>\n",
       "      <th>445</th>\n",
       "      <td>12</td>\n",
       "      <td>0.006554</td>\n",
       "      <td>0.006554</td>\n",
       "      <td>0.005876</td>\n",
       "      <td>0.005876</td>\n",
       "      <td>0.0</td>\n",
       "      <td>0.0</td>\n",
       "      <td>['PSn', 'PCn']</td>\n",
       "      <td>692</td>\n",
       "    </tr>\n",
       "    <tr>\n",
       "      <th>446</th>\n",
       "      <td>16</td>\n",
       "      <td>0.006080</td>\n",
       "      <td>0.006080</td>\n",
       "      <td>0.005876</td>\n",
       "      <td>0.005876</td>\n",
       "      <td>0.0</td>\n",
       "      <td>0.0</td>\n",
       "      <td>['PSn', 'PCn']</td>\n",
       "      <td>796</td>\n",
       "    </tr>\n",
       "    <tr>\n",
       "      <th>447</th>\n",
       "      <td>20</td>\n",
       "      <td>0.006087</td>\n",
       "      <td>0.006087</td>\n",
       "      <td>0.005947</td>\n",
       "      <td>0.005947</td>\n",
       "      <td>0.0</td>\n",
       "      <td>0.0</td>\n",
       "      <td>['PSn', 'PCn']</td>\n",
       "      <td>493</td>\n",
       "    </tr>\n",
       "    <tr>\n",
       "      <th>448</th>\n",
       "      <td>30</td>\n",
       "      <td>0.005498</td>\n",
       "      <td>0.005498</td>\n",
       "      <td>0.006082</td>\n",
       "      <td>0.006082</td>\n",
       "      <td>0.0</td>\n",
       "      <td>0.0</td>\n",
       "      <td>['PSn', 'PCn']</td>\n",
       "      <td>361</td>\n",
       "    </tr>\n",
       "    <tr>\n",
       "      <th>449</th>\n",
       "      <td>50</td>\n",
       "      <td>0.003774</td>\n",
       "      <td>0.003774</td>\n",
       "      <td>0.006063</td>\n",
       "      <td>0.006063</td>\n",
       "      <td>0.0</td>\n",
       "      <td>0.0</td>\n",
       "      <td>['PSn', 'PCn']</td>\n",
       "      <td>246</td>\n",
       "    </tr>\n",
       "    <tr>\n",
       "      <th>450</th>\n",
       "      <td>4</td>\n",
       "      <td>0.006677</td>\n",
       "      <td>0.006677</td>\n",
       "      <td>0.006223</td>\n",
       "      <td>0.006223</td>\n",
       "      <td>0.0</td>\n",
       "      <td>0.0</td>\n",
       "      <td>['PSn', 'PCn', 'TBn', 'TSBn']</td>\n",
       "      <td>849</td>\n",
       "    </tr>\n",
       "    <tr>\n",
       "      <th>451</th>\n",
       "      <td>6</td>\n",
       "      <td>0.006488</td>\n",
       "      <td>0.006488</td>\n",
       "      <td>0.006135</td>\n",
       "      <td>0.006135</td>\n",
       "      <td>0.0</td>\n",
       "      <td>0.0</td>\n",
       "      <td>['PSn', 'PCn', 'TBn', 'TSBn']</td>\n",
       "      <td>475</td>\n",
       "    </tr>\n",
       "    <tr>\n",
       "      <th>452</th>\n",
       "      <td>8</td>\n",
       "      <td>0.006075</td>\n",
       "      <td>0.006075</td>\n",
       "      <td>0.005974</td>\n",
       "      <td>0.005974</td>\n",
       "      <td>0.0</td>\n",
       "      <td>0.0</td>\n",
       "      <td>['PSn', 'PCn', 'TBn', 'TSBn']</td>\n",
       "      <td>595</td>\n",
       "    </tr>\n",
       "    <tr>\n",
       "      <th>453</th>\n",
       "      <td>12</td>\n",
       "      <td>0.005562</td>\n",
       "      <td>0.005562</td>\n",
       "      <td>0.005910</td>\n",
       "      <td>0.005910</td>\n",
       "      <td>0.0</td>\n",
       "      <td>0.0</td>\n",
       "      <td>['PSn', 'PCn', 'TBn', 'TSBn']</td>\n",
       "      <td>697</td>\n",
       "    </tr>\n",
       "    <tr>\n",
       "      <th>454</th>\n",
       "      <td>16</td>\n",
       "      <td>0.005344</td>\n",
       "      <td>0.005344</td>\n",
       "      <td>0.005550</td>\n",
       "      <td>0.005550</td>\n",
       "      <td>0.0</td>\n",
       "      <td>0.0</td>\n",
       "      <td>['PSn', 'PCn', 'TBn', 'TSBn']</td>\n",
       "      <td>443</td>\n",
       "    </tr>\n",
       "    <tr>\n",
       "      <th>455</th>\n",
       "      <td>20</td>\n",
       "      <td>0.005119</td>\n",
       "      <td>0.005119</td>\n",
       "      <td>0.005844</td>\n",
       "      <td>0.005844</td>\n",
       "      <td>0.0</td>\n",
       "      <td>0.0</td>\n",
       "      <td>['PSn', 'PCn', 'TBn', 'TSBn']</td>\n",
       "      <td>375</td>\n",
       "    </tr>\n",
       "    <tr>\n",
       "      <th>456</th>\n",
       "      <td>30</td>\n",
       "      <td>0.005104</td>\n",
       "      <td>0.005104</td>\n",
       "      <td>0.006225</td>\n",
       "      <td>0.006225</td>\n",
       "      <td>0.0</td>\n",
       "      <td>0.0</td>\n",
       "      <td>['PSn', 'PCn', 'TBn', 'TSBn']</td>\n",
       "      <td>196</td>\n",
       "    </tr>\n",
       "    <tr>\n",
       "      <th>457</th>\n",
       "      <td>50</td>\n",
       "      <td>0.002645</td>\n",
       "      <td>0.002645</td>\n",
       "      <td>0.006060</td>\n",
       "      <td>0.006060</td>\n",
       "      <td>0.0</td>\n",
       "      <td>0.0</td>\n",
       "      <td>['PSn', 'PCn', 'TBn', 'TSBn']</td>\n",
       "      <td>193</td>\n",
       "    </tr>\n",
       "  </tbody>\n",
       "</table>\n",
       "</div>"
      ],
      "text/plain": [
       "     hidden_state      loss       mse  val_loss   val_mse  accuracy  \\\n",
       "442             4  0.007460  0.007460  0.006855  0.006855       0.0   \n",
       "443             6  0.007326  0.007326  0.006736  0.006736       0.0   \n",
       "444             8  0.007398  0.007398  0.006685  0.006685       0.0   \n",
       "445            12  0.006554  0.006554  0.005876  0.005876       0.0   \n",
       "446            16  0.006080  0.006080  0.005876  0.005876       0.0   \n",
       "447            20  0.006087  0.006087  0.005947  0.005947       0.0   \n",
       "448            30  0.005498  0.005498  0.006082  0.006082       0.0   \n",
       "449            50  0.003774  0.003774  0.006063  0.006063       0.0   \n",
       "450             4  0.006677  0.006677  0.006223  0.006223       0.0   \n",
       "451             6  0.006488  0.006488  0.006135  0.006135       0.0   \n",
       "452             8  0.006075  0.006075  0.005974  0.005974       0.0   \n",
       "453            12  0.005562  0.005562  0.005910  0.005910       0.0   \n",
       "454            16  0.005344  0.005344  0.005550  0.005550       0.0   \n",
       "455            20  0.005119  0.005119  0.005844  0.005844       0.0   \n",
       "456            30  0.005104  0.005104  0.006225  0.006225       0.0   \n",
       "457            50  0.002645  0.002645  0.006060  0.006060       0.0   \n",
       "\n",
       "     val_accuracy                   model_inputs  epochs  \n",
       "442           0.0                 ['PSn', 'PCn']     852  \n",
       "443           0.0                 ['PSn', 'PCn']     599  \n",
       "444           0.0                 ['PSn', 'PCn']     308  \n",
       "445           0.0                 ['PSn', 'PCn']     692  \n",
       "446           0.0                 ['PSn', 'PCn']     796  \n",
       "447           0.0                 ['PSn', 'PCn']     493  \n",
       "448           0.0                 ['PSn', 'PCn']     361  \n",
       "449           0.0                 ['PSn', 'PCn']     246  \n",
       "450           0.0  ['PSn', 'PCn', 'TBn', 'TSBn']     849  \n",
       "451           0.0  ['PSn', 'PCn', 'TBn', 'TSBn']     475  \n",
       "452           0.0  ['PSn', 'PCn', 'TBn', 'TSBn']     595  \n",
       "453           0.0  ['PSn', 'PCn', 'TBn', 'TSBn']     697  \n",
       "454           0.0  ['PSn', 'PCn', 'TBn', 'TSBn']     443  \n",
       "455           0.0  ['PSn', 'PCn', 'TBn', 'TSBn']     375  \n",
       "456           0.0  ['PSn', 'PCn', 'TBn', 'TSBn']     196  \n",
       "457           0.0  ['PSn', 'PCn', 'TBn', 'TSBn']     193  "
      ]
     },
     "execution_count": 50,
     "metadata": {},
     "output_type": "execute_result"
    }
   ],
   "source": [
    "### set up\n",
    "id_list = [i for i in range(442, 458)]# runs of interest\n",
    "x = 'hidden_state' # hyperparameter of interest - will be plotted on x axis\n",
    "split = 'model_inputs'\n",
    "data.plot_sacred_runs(id_list, x, split, return_df=True, plot_params={'title': 'Excluding Rhythmic Information',\n",
    "                                                                'ylabel': 'val MSE',\n",
    "                                                                'figsize': (7,7)})"
   ]
  },
  {
   "cell_type": "code",
   "execution_count": 179,
   "metadata": {},
   "outputs": [
    {
     "data": {
      "application/vnd.jupyter.widget-view+json": {
       "model_id": "e3fdd52fc76742fbbe6000c9a82239d8",
       "version_major": 2,
       "version_minor": 0
      },
      "text/plain": [
       "VBox(children=(Checkbox(value=False, description='loss'), Checkbox(value=False, description='accuracy'), Check…"
      ]
     },
     "metadata": {},
     "output_type": "display_data"
    },
    {
     "data": {
      "text/html": [
       "<div>\n",
       "<style scoped>\n",
       "    .dataframe tbody tr th:only-of-type {\n",
       "        vertical-align: middle;\n",
       "    }\n",
       "\n",
       "    .dataframe tbody tr th {\n",
       "        vertical-align: top;\n",
       "    }\n",
       "\n",
       "    .dataframe thead th {\n",
       "        text-align: right;\n",
       "    }\n",
       "</style>\n",
       "<table border=\"1\" class=\"dataframe\">\n",
       "  <thead>\n",
       "    <tr style=\"text-align: right;\">\n",
       "      <th></th>\n",
       "      <th>model_inputs</th>\n",
       "      <th>loss</th>\n",
       "      <th>accuracy</th>\n",
       "      <th>mse</th>\n",
       "      <th>val_loss</th>\n",
       "      <th>val_accuracy</th>\n",
       "      <th>val_mse</th>\n",
       "    </tr>\n",
       "  </thead>\n",
       "  <tbody>\n",
       "    <tr>\n",
       "      <th>443</th>\n",
       "      <td>[PSn, PCn]</td>\n",
       "      <td>[0.026991229504346848, 0.022944767028093338, 0...</td>\n",
       "      <td>[0.0, 0.0, 0.0, 0.0, 0.0, 0.0, 0.0, 0.0, 0.0, ...</td>\n",
       "      <td>[0.026991231366991997, 0.02294476516544819, 0....</td>\n",
       "      <td>[0.028154844418168068, 0.027469953522086143, 0...</td>\n",
       "      <td>[0.0, 0.0, 0.0, 0.0, 0.0, 0.0, 0.0, 0.0, 0.0, ...</td>\n",
       "      <td>[0.028154844418168068, 0.027469953522086143, 0...</td>\n",
       "    </tr>\n",
       "    <tr>\n",
       "      <th>451</th>\n",
       "      <td>[PSn, PCn, TBn, TSBn]</td>\n",
       "      <td>[0.026387937366962433, 0.021903852000832558, 0...</td>\n",
       "      <td>[0.0, 0.0, 0.0, 0.0, 0.0, 0.0, 0.0, 0.0, 0.0, ...</td>\n",
       "      <td>[0.02638794295489788, 0.02190385013818741, 0.0...</td>\n",
       "      <td>[0.02560662291944027, 0.024573639035224915, 0....</td>\n",
       "      <td>[0.0, 0.0, 0.0, 0.0, 0.0, 0.0, 0.0, 0.0, 0.0, ...</td>\n",
       "      <td>[0.02560662291944027, 0.024573637172579765, 0....</td>\n",
       "    </tr>\n",
       "  </tbody>\n",
       "</table>\n",
       "</div>"
      ],
      "text/plain": [
       "              model_inputs                                               loss  \\\n",
       "443             [PSn, PCn]  [0.026991229504346848, 0.022944767028093338, 0...   \n",
       "451  [PSn, PCn, TBn, TSBn]  [0.026387937366962433, 0.021903852000832558, 0...   \n",
       "\n",
       "                                              accuracy  \\\n",
       "443  [0.0, 0.0, 0.0, 0.0, 0.0, 0.0, 0.0, 0.0, 0.0, ...   \n",
       "451  [0.0, 0.0, 0.0, 0.0, 0.0, 0.0, 0.0, 0.0, 0.0, ...   \n",
       "\n",
       "                                                   mse  \\\n",
       "443  [0.026991231366991997, 0.02294476516544819, 0....   \n",
       "451  [0.02638794295489788, 0.02190385013818741, 0.0...   \n",
       "\n",
       "                                              val_loss  \\\n",
       "443  [0.028154844418168068, 0.027469953522086143, 0...   \n",
       "451  [0.02560662291944027, 0.024573639035224915, 0....   \n",
       "\n",
       "                                          val_accuracy  \\\n",
       "443  [0.0, 0.0, 0.0, 0.0, 0.0, 0.0, 0.0, 0.0, 0.0, ...   \n",
       "451  [0.0, 0.0, 0.0, 0.0, 0.0, 0.0, 0.0, 0.0, 0.0, ...   \n",
       "\n",
       "                                               val_mse  \n",
       "443  [0.028154844418168068, 0.027469953522086143, 0...  \n",
       "451  [0.02560662291944027, 0.024573637172579765, 0....  "
      ]
     },
     "execution_count": 179,
     "metadata": {},
     "output_type": "execute_result"
    }
   ],
   "source": [
    "### Hidden state size of 50: perhaps overfitting is why no rhythm info does better?\n",
    "id_list = [449, 457]# runs of interest\n",
    "x = 'hidden_state' # hyperparameter of interest - will be plotted on x axis\n",
    "split = 'model_inputs'\n",
    "data.plot_sacred_training(id_list, split, return_df=True)"
   ]
  },
  {
   "cell_type": "code",
   "execution_count": 51,
   "metadata": {},
   "outputs": [
    {
     "data": {
      "application/vnd.jupyter.widget-view+json": {
       "model_id": "cfa63bb67d9446d6b38e19f174163ebe",
       "version_major": 2,
       "version_minor": 0
      },
      "text/plain": [
       "VBox(children=(Checkbox(value=False, description='loss'), Checkbox(value=False, description='accuracy'), Check…"
      ]
     },
     "metadata": {},
     "output_type": "display_data"
    },
    {
     "data": {
      "text/html": [
       "<div>\n",
       "<style scoped>\n",
       "    .dataframe tbody tr th:only-of-type {\n",
       "        vertical-align: middle;\n",
       "    }\n",
       "\n",
       "    .dataframe tbody tr th {\n",
       "        vertical-align: top;\n",
       "    }\n",
       "\n",
       "    .dataframe thead th {\n",
       "        text-align: right;\n",
       "    }\n",
       "</style>\n",
       "<table border=\"1\" class=\"dataframe\">\n",
       "  <thead>\n",
       "    <tr style=\"text-align: right;\">\n",
       "      <th></th>\n",
       "      <th>model_inputs</th>\n",
       "      <th>loss</th>\n",
       "      <th>accuracy</th>\n",
       "      <th>mse</th>\n",
       "      <th>val_loss</th>\n",
       "      <th>val_accuracy</th>\n",
       "      <th>val_mse</th>\n",
       "    </tr>\n",
       "  </thead>\n",
       "  <tbody>\n",
       "    <tr>\n",
       "      <th>447</th>\n",
       "      <td>[PSn, PCn]</td>\n",
       "      <td>[0.02430538646876812, 0.020610108971595764, 0....</td>\n",
       "      <td>[0.0, 0.0, 0.0, 0.0, 0.0, 0.0, 0.0, 0.0, 0.0, ...</td>\n",
       "      <td>[0.02430538460612297, 0.020610108971595764, 0....</td>\n",
       "      <td>[0.025881074368953705, 0.019983043894171715, 0...</td>\n",
       "      <td>[0.0, 0.0, 0.0, 0.0, 0.0, 0.0, 0.0, 0.0, 0.0, ...</td>\n",
       "      <td>[0.025881074368953705, 0.019983042031526566, 0...</td>\n",
       "    </tr>\n",
       "    <tr>\n",
       "      <th>455</th>\n",
       "      <td>[PSn, PCn, TBn, TSBn]</td>\n",
       "      <td>[0.023474223911762238, 0.018939703702926636, 0...</td>\n",
       "      <td>[0.0, 0.0, 0.0, 0.0, 0.0, 0.0, 0.0, 0.0, 0.0, ...</td>\n",
       "      <td>[0.02347422204911709, 0.018939705565571785, 0....</td>\n",
       "      <td>[0.02234908938407898, 0.019693830981850624, 0....</td>\n",
       "      <td>[0.0, 0.0, 0.0, 0.0, 0.0, 0.0, 0.0, 0.0, 0.0, ...</td>\n",
       "      <td>[0.02234908938407898, 0.019693832844495773, 0....</td>\n",
       "    </tr>\n",
       "  </tbody>\n",
       "</table>\n",
       "</div>"
      ],
      "text/plain": [
       "              model_inputs                                               loss  \\\n",
       "447             [PSn, PCn]  [0.02430538646876812, 0.020610108971595764, 0....   \n",
       "455  [PSn, PCn, TBn, TSBn]  [0.023474223911762238, 0.018939703702926636, 0...   \n",
       "\n",
       "                                              accuracy  \\\n",
       "447  [0.0, 0.0, 0.0, 0.0, 0.0, 0.0, 0.0, 0.0, 0.0, ...   \n",
       "455  [0.0, 0.0, 0.0, 0.0, 0.0, 0.0, 0.0, 0.0, 0.0, ...   \n",
       "\n",
       "                                                   mse  \\\n",
       "447  [0.02430538460612297, 0.020610108971595764, 0....   \n",
       "455  [0.02347422204911709, 0.018939705565571785, 0....   \n",
       "\n",
       "                                              val_loss  \\\n",
       "447  [0.025881074368953705, 0.019983043894171715, 0...   \n",
       "455  [0.02234908938407898, 0.019693830981850624, 0....   \n",
       "\n",
       "                                          val_accuracy  \\\n",
       "447  [0.0, 0.0, 0.0, 0.0, 0.0, 0.0, 0.0, 0.0, 0.0, ...   \n",
       "455  [0.0, 0.0, 0.0, 0.0, 0.0, 0.0, 0.0, 0.0, 0.0, ...   \n",
       "\n",
       "                                               val_mse  \n",
       "447  [0.025881074368953705, 0.019983042031526566, 0...  \n",
       "455  [0.02234908938407898, 0.019693832844495773, 0....  "
      ]
     },
     "execution_count": 51,
     "metadata": {},
     "output_type": "execute_result"
    }
   ],
   "source": [
    "### Hidden state size of 20\n",
    "id_list = [447, 455]# runs of interest\n",
    "x = 'hidden_state' # hyperparameter of interest - will be plotted on x axis\n",
    "split = 'model_inputs'\n",
    "data.plot_sacred_training(id_list, split, return_df=True, plot_params={'title': 'Excluding Rhythmic Information, HSS = 20',\n",
    "                                                                 'ylim': [0.0045, 0.02],\n",
    "                                                                 'figsize': (7,7)})"
   ]
  },
  {
   "cell_type": "markdown",
   "metadata": {},
   "source": [
    "### testing different inputs\n",
    "415 vs 470 vs 471: three models, each with different inputs.\n",
    "PSn + PCn is smoothest, trains fastest."
   ]
  },
  {
   "cell_type": "code",
   "execution_count": 24,
   "metadata": {},
   "outputs": [
    {
     "data": {
      "application/vnd.jupyter.widget-view+json": {
       "model_id": "f35f0a7cd2014782ac24539e53948f46",
       "version_major": 2,
       "version_minor": 0
      },
      "text/plain": [
       "VBox(children=(Checkbox(value=False, description='loss'), Checkbox(value=False, description='accuracy'), Check…"
      ]
     },
     "metadata": {},
     "output_type": "display_data"
    }
   ],
   "source": [
    "### All\n",
    "id_list = [415, 470, 471, 472, 473, 474] # runs of interest\n",
    "x = 'model_inputs' # hyperparameter of interest - will be plotted on x axis\n",
    "data.plot_sacred_training(id_list, x, epoch_lim=60, plot_params={'title': 'Early Training for Various Inputs'})"
   ]
  },
  {
   "cell_type": "code",
   "execution_count": 33,
   "metadata": {},
   "outputs": [
    {
     "data": {
      "application/vnd.jupyter.widget-view+json": {
       "model_id": "c0e5ea20aef041a69a5a77f957b3e74f",
       "version_major": 2,
       "version_minor": 0
      },
      "text/plain": [
       "VBox(children=(Checkbox(value=False, description='loss'), Checkbox(value=False, description='accuracy'), Check…"
      ]
     },
     "metadata": {},
     "output_type": "display_data"
    }
   ],
   "source": [
    "### Main two\n",
    "id_list = [415, 471] # runs of interest\n",
    "x = 'model_inputs' # hyperparameter of interest - will be plotted on x axis\n",
    "data.plot_sacred_training(id_list, x, epoch_lim=700,\n",
    "                     plot_params={'title': 'Pitch Representations: [Pn] vs [PCn, PSn]',\n",
    "                                 'ylabel': 'val MSE',\n",
    "                                 'figsize': (7,7)})"
   ]
  },
  {
   "cell_type": "code",
   "execution_count": 34,
   "metadata": {},
   "outputs": [
    {
     "data": {
      "application/vnd.jupyter.widget-view+json": {
       "model_id": "b2c7da89c8694df1b74444d32992e059",
       "version_major": 2,
       "version_minor": 0
      },
      "text/plain": [
       "VBox(children=(Checkbox(value=False, description='loss'), Checkbox(value=False, description='accuracy'), Check…"
      ]
     },
     "metadata": {},
     "output_type": "display_data"
    }
   ],
   "source": [
    "### Main two, early stages\n",
    "id_list = [415, 471] # runs of interest\n",
    "x = 'model_inputs' # hyperparameter of interest - will be plotted on x axis\n",
    "data.plot_sacred_training(id_list, x, epoch_lim=80,\n",
    "                     plot_params={'title': 'Pitch Representations: [Pn] vs [PCn, PSn], Early Training',\n",
    "                                 'ylabel': 'val MSE',\n",
    "                                 'figsize': (7,7)})"
   ]
  },
  {
   "cell_type": "code",
   "execution_count": 156,
   "metadata": {},
   "outputs": [
    {
     "data": {
      "application/vnd.jupyter.widget-view+json": {
       "model_id": "11aaad1e0a7b4722b98bb7dadff9bcb7",
       "version_major": 2,
       "version_minor": 0
      },
      "text/plain": [
       "VBox(children=(Checkbox(value=False, description='loss'), Checkbox(value=False, description='accuracy'), Check…"
      ]
     },
     "metadata": {},
     "output_type": "display_data"
    }
   ],
   "source": [
    "### All\n",
    "id_list = [415, 470, 471, 472, 473, 474] # runs of interest\n",
    "x = 'model_inputs' # hyperparameter of interest - will be plotted on x axis\n",
    "data.plot_sacred_training(id_list, x, epoch_lim=100)"
   ]
  },
  {
   "cell_type": "code",
   "execution_count": 9,
   "metadata": {},
   "outputs": [
    {
     "ename": "NameError",
     "evalue": "name 'pymongo' is not defined",
     "output_type": "error",
     "traceback": [
      "\u001b[0;31m---------------------------------------------------------------------------\u001b[0m",
      "\u001b[0;31mNameError\u001b[0m                                 Traceback (most recent call last)",
      "\u001b[0;32m<ipython-input-9-79fb806b0146>\u001b[0m in \u001b[0;36m<module>\u001b[0;34m\u001b[0m\n\u001b[1;32m      2\u001b[0m \u001b[0mid_list\u001b[0m \u001b[0;34m=\u001b[0m \u001b[0;34m[\u001b[0m\u001b[0;36m415\u001b[0m\u001b[0;34m,\u001b[0m \u001b[0;36m470\u001b[0m\u001b[0;34m,\u001b[0m \u001b[0;36m471\u001b[0m\u001b[0;34m,\u001b[0m \u001b[0;36m472\u001b[0m\u001b[0;34m,\u001b[0m \u001b[0;36m473\u001b[0m\u001b[0;34m,\u001b[0m \u001b[0;36m474\u001b[0m\u001b[0;34m]\u001b[0m \u001b[0;31m# runs of interest\u001b[0m\u001b[0;34m\u001b[0m\u001b[0;34m\u001b[0m\u001b[0m\n\u001b[1;32m      3\u001b[0m \u001b[0mx\u001b[0m \u001b[0;34m=\u001b[0m \u001b[0;34m'model_inputs'\u001b[0m \u001b[0;31m# hyperparameter of interest - will be plotted on x axis\u001b[0m\u001b[0;34m\u001b[0m\u001b[0;34m\u001b[0m\u001b[0m\n\u001b[0;32m----> 4\u001b[0;31m \u001b[0mdata\u001b[0m\u001b[0;34m.\u001b[0m\u001b[0mplot_sacred_training\u001b[0m\u001b[0;34m(\u001b[0m\u001b[0mid_list\u001b[0m\u001b[0;34m,\u001b[0m \u001b[0mx\u001b[0m\u001b[0;34m,\u001b[0m \u001b[0mepoch_lim\u001b[0m\u001b[0;34m=\u001b[0m\u001b[0;36m100\u001b[0m\u001b[0;34m)\u001b[0m\u001b[0;34m\u001b[0m\u001b[0;34m\u001b[0m\u001b[0m\n\u001b[0m",
      "\u001b[0;32m/storage/781-piano-autoencoder/src/data.py\u001b[0m in \u001b[0;36mplot_sacred_training\u001b[0;34m(id_list, x, epoch_lim, parameter_is_list, index_of_interest, return_df, plot_params)\u001b[0m\n\u001b[1;32m    430\u001b[0m     \"\"\"\n\u001b[1;32m    431\u001b[0m     \u001b[0;31m# establish connection to database\u001b[0m\u001b[0;34m\u001b[0m\u001b[0;34m\u001b[0m\u001b[0;34m\u001b[0m\u001b[0m\n\u001b[0;32m--> 432\u001b[0;31m     \u001b[0mclient\u001b[0m \u001b[0;34m=\u001b[0m \u001b[0mpymongo\u001b[0m\u001b[0;34m.\u001b[0m\u001b[0mMongoClient\u001b[0m\u001b[0;34m(\u001b[0m\u001b[0;34m)\u001b[0m\u001b[0;34m\u001b[0m\u001b[0;34m\u001b[0m\u001b[0m\n\u001b[0m\u001b[1;32m    433\u001b[0m     \u001b[0mfs\u001b[0m \u001b[0;34m=\u001b[0m \u001b[0mgridfs\u001b[0m\u001b[0;34m.\u001b[0m\u001b[0mGridFS\u001b[0m\u001b[0;34m(\u001b[0m\u001b[0mclient\u001b[0m\u001b[0;34m.\u001b[0m\u001b[0msacred\u001b[0m\u001b[0;34m)\u001b[0m\u001b[0;34m\u001b[0m\u001b[0;34m\u001b[0m\u001b[0m\n\u001b[1;32m    434\u001b[0m     \u001b[0mruns\u001b[0m \u001b[0;34m=\u001b[0m \u001b[0mclient\u001b[0m\u001b[0;34m.\u001b[0m\u001b[0msacred\u001b[0m\u001b[0;34m.\u001b[0m\u001b[0mruns\u001b[0m\u001b[0;34m\u001b[0m\u001b[0;34m\u001b[0m\u001b[0m\n",
      "\u001b[0;31mNameError\u001b[0m: name 'pymongo' is not defined"
     ]
    }
   ],
   "source": [
    "### All\n",
    "id_list = [415, 470, 471, 472, 473, 474] # runs of interest\n",
    "x = 'model_inputs' # hyperparameter of interest - will be plotted on x axis\n",
    "data.plot_sacred_training(id_list, x, epoch_lim=100)"
   ]
  },
  {
   "cell_type": "markdown",
   "metadata": {},
   "source": [
    "### Testing different inputs data limited\n"
   ]
  },
  {
   "cell_type": "code",
   "execution_count": 48,
   "metadata": {},
   "outputs": [
    {
     "data": {
      "application/vnd.jupyter.widget-view+json": {
       "model_id": "95abc52c496f4878a0658e818532facc",
       "version_major": 2,
       "version_minor": 0
      },
      "text/plain": [
       "VBox(children=(Checkbox(value=False, description='loss'), Checkbox(value=False, description='accuracy'), Check…"
      ]
     },
     "metadata": {},
     "output_type": "display_data"
    }
   ],
   "source": [
    "### set up\n",
    "id_list = [499, 410, 513] # runs of interest\n",
    "x = 'model_inputs' # hyperparameter of interest - will be plotted on x axis\n",
    "split = 'model_inputs'\n",
    "plot_sacred_training(id_list, split, epoch_lim=1250, plot_params={'ylim': (0.0045, 0.025),\n",
    "                                                                  'title': 'Data Limited Comparison of Inputs 1',\n",
    "                                                                 'ylabel': 'val MSE',\n",
    "                                                                 'figsize': (7,7)})"
   ]
  },
  {
   "cell_type": "code",
   "execution_count": 71,
   "metadata": {},
   "outputs": [
    {
     "data": {
      "application/vnd.jupyter.widget-view+json": {
       "model_id": "c6d62da595ae4ee2b95fef03fe124838",
       "version_major": 2,
       "version_minor": 0
      },
      "text/plain": [
       "VBox(children=(Checkbox(value=False, description='loss'), Checkbox(value=False, description='mse'), Checkbox(v…"
      ]
     },
     "metadata": {},
     "output_type": "display_data"
    },
    {
     "data": {
      "text/html": [
       "<div>\n",
       "<style scoped>\n",
       "    .dataframe tbody tr th:only-of-type {\n",
       "        vertical-align: middle;\n",
       "    }\n",
       "\n",
       "    .dataframe tbody tr th {\n",
       "        vertical-align: top;\n",
       "    }\n",
       "\n",
       "    .dataframe thead th {\n",
       "        text-align: right;\n",
       "    }\n",
       "</style>\n",
       "<table border=\"1\" class=\"dataframe\">\n",
       "  <thead>\n",
       "    <tr style=\"text-align: right;\">\n",
       "      <th></th>\n",
       "      <th>model_inputs</th>\n",
       "      <th>loss</th>\n",
       "      <th>mse</th>\n",
       "      <th>val_loss</th>\n",
       "      <th>val_mse</th>\n",
       "      <th>accuracy</th>\n",
       "      <th>val_accuracy</th>\n",
       "      <th>epochs</th>\n",
       "    </tr>\n",
       "  </thead>\n",
       "  <tbody>\n",
       "    <tr>\n",
       "      <th>410</th>\n",
       "      <td>[PCn, PSn, TBn, TSBn]</td>\n",
       "      <td>0.005877</td>\n",
       "      <td>0.005877</td>\n",
       "      <td>0.005739</td>\n",
       "      <td>0.005739</td>\n",
       "      <td>0.0</td>\n",
       "      <td>0.0</td>\n",
       "      <td>1500</td>\n",
       "    </tr>\n",
       "    <tr>\n",
       "      <th>499</th>\n",
       "      <td>[Pn, TBn, TSBn]</td>\n",
       "      <td>0.006885</td>\n",
       "      <td>0.006885</td>\n",
       "      <td>0.006634</td>\n",
       "      <td>0.006634</td>\n",
       "      <td>0.0</td>\n",
       "      <td>0.0</td>\n",
       "      <td>2173</td>\n",
       "    </tr>\n",
       "    <tr>\n",
       "      <th>512</th>\n",
       "      <td>[PSn, Pn, TBn, TSBn]</td>\n",
       "      <td>0.005776</td>\n",
       "      <td>0.005776</td>\n",
       "      <td>0.006387</td>\n",
       "      <td>0.006387</td>\n",
       "      <td>0.0</td>\n",
       "      <td>0.0</td>\n",
       "      <td>2661</td>\n",
       "    </tr>\n",
       "    <tr>\n",
       "      <th>513</th>\n",
       "      <td>[PCn, Pn, TBn, TSBn]</td>\n",
       "      <td>0.006813</td>\n",
       "      <td>0.006813</td>\n",
       "      <td>0.006520</td>\n",
       "      <td>0.006520</td>\n",
       "      <td>0.0</td>\n",
       "      <td>0.0</td>\n",
       "      <td>1973</td>\n",
       "    </tr>\n",
       "  </tbody>\n",
       "</table>\n",
       "</div>"
      ],
      "text/plain": [
       "              model_inputs      loss       mse  val_loss   val_mse  accuracy  \\\n",
       "410  [PCn, PSn, TBn, TSBn]  0.005877  0.005877  0.005739  0.005739       0.0   \n",
       "499        [Pn, TBn, TSBn]  0.006885  0.006885  0.006634  0.006634       0.0   \n",
       "512   [PSn, Pn, TBn, TSBn]  0.005776  0.005776  0.006387  0.006387       0.0   \n",
       "513   [PCn, Pn, TBn, TSBn]  0.006813  0.006813  0.006520  0.006520       0.0   \n",
       "\n",
       "     val_accuracy  epochs  \n",
       "410           0.0    1500  \n",
       "499           0.0    2173  \n",
       "512           0.0    2661  \n",
       "513           0.0    1973  "
      ]
     },
     "execution_count": 71,
     "metadata": {},
     "output_type": "execute_result"
    }
   ],
   "source": [
    "### set up\n",
    "id_list = [499, 410, 513, 512] # runs of interest\n",
    "x = 'model_inputs' # hyperparameter of interest - will be plotted on x axis\n",
    "split = 'model_inputs'\n",
    "plot_sacred_runs(id_list, split, return_df=True, plot_params={'ylim': (0.0045, 0.025),\n",
    "                                                                  'title': 'Data Limited Comparison of Inputs 1',\n",
    "                                                                 'ylabel': 'val MSE',\n",
    "                                                                 'figsize': (7,7)})"
   ]
  },
  {
   "cell_type": "code",
   "execution_count": 49,
   "metadata": {},
   "outputs": [
    {
     "data": {
      "application/vnd.jupyter.widget-view+json": {
       "model_id": "a106aabb23af4b67bfa10835710d4a56",
       "version_major": 2,
       "version_minor": 0
      },
      "text/plain": [
       "VBox(children=(Checkbox(value=False, description='loss'), Checkbox(value=False, description='accuracy'), Check…"
      ]
     },
     "metadata": {},
     "output_type": "display_data"
    }
   ],
   "source": [
    "### set up\n",
    "id_list = [410, 512] # runs of interest\n",
    "x = 'model_inputs' # hyperparameter of interest - will be plotted on x axis\n",
    "split = 'model_inputs'\n",
    "plot_sacred_training(id_list, split, epoch_lim=1250, plot_params={'ylim': (0.0045, 0.025),\n",
    "                                                                  'title': 'Data Limited Comparison of Inputs 2',\n",
    "                                                                 'ylabel': 'val MSE',\n",
    "                                                                 'figsize': (7,7)})"
   ]
  },
  {
   "cell_type": "markdown",
   "metadata": {},
   "source": [
    "### testing different hidden states, limiting training data\n",
    "Earlier runs use a much smaller data set - shows that smaller network size is better for less data."
   ]
  },
  {
   "cell_type": "code",
   "execution_count": 63,
   "metadata": {},
   "outputs": [
    {
     "data": {
      "application/vnd.jupyter.widget-view+json": {
       "model_id": "347ed775dc174d6ab766efd4edbed2cf",
       "version_major": 2,
       "version_minor": 0
      },
      "text/plain": [
       "VBox(children=(Checkbox(value=False, description='loss'), Checkbox(value=False, description='mse'), Checkbox(v…"
      ]
     },
     "metadata": {},
     "output_type": "display_data"
    },
    {
     "data": {
      "text/html": [
       "<div>\n",
       "<style scoped>\n",
       "    .dataframe tbody tr th:only-of-type {\n",
       "        vertical-align: middle;\n",
       "    }\n",
       "\n",
       "    .dataframe tbody tr th {\n",
       "        vertical-align: top;\n",
       "    }\n",
       "\n",
       "    .dataframe thead th {\n",
       "        text-align: right;\n",
       "    }\n",
       "</style>\n",
       "<table border=\"1\" class=\"dataframe\">\n",
       "  <thead>\n",
       "    <tr style=\"text-align: right;\">\n",
       "      <th></th>\n",
       "      <th>hidden_state</th>\n",
       "      <th>loss</th>\n",
       "      <th>mse</th>\n",
       "      <th>val_loss</th>\n",
       "      <th>val_mse</th>\n",
       "      <th>accuracy</th>\n",
       "      <th>val_accuracy</th>\n",
       "      <th>nth_example</th>\n",
       "      <th>epochs</th>\n",
       "    </tr>\n",
       "  </thead>\n",
       "  <tbody>\n",
       "    <tr>\n",
       "      <th>405</th>\n",
       "      <td>2</td>\n",
       "      <td>0.007591</td>\n",
       "      <td>0.007591</td>\n",
       "      <td>0.006967</td>\n",
       "      <td>0.006967</td>\n",
       "      <td>0.0</td>\n",
       "      <td>0.0</td>\n",
       "      <td>None</td>\n",
       "      <td>820</td>\n",
       "    </tr>\n",
       "    <tr>\n",
       "      <th>406</th>\n",
       "      <td>3</td>\n",
       "      <td>0.007151</td>\n",
       "      <td>0.007151</td>\n",
       "      <td>0.006712</td>\n",
       "      <td>0.006712</td>\n",
       "      <td>0.0</td>\n",
       "      <td>0.0</td>\n",
       "      <td>None</td>\n",
       "      <td>511</td>\n",
       "    </tr>\n",
       "    <tr>\n",
       "      <th>407</th>\n",
       "      <td>4</td>\n",
       "      <td>0.006655</td>\n",
       "      <td>0.006655</td>\n",
       "      <td>0.006222</td>\n",
       "      <td>0.006222</td>\n",
       "      <td>0.0</td>\n",
       "      <td>0.0</td>\n",
       "      <td>None</td>\n",
       "      <td>1447</td>\n",
       "    </tr>\n",
       "    <tr>\n",
       "      <th>408</th>\n",
       "      <td>5</td>\n",
       "      <td>0.006475</td>\n",
       "      <td>0.006475</td>\n",
       "      <td>0.006049</td>\n",
       "      <td>0.006049</td>\n",
       "      <td>0.0</td>\n",
       "      <td>0.0</td>\n",
       "      <td>None</td>\n",
       "      <td>797</td>\n",
       "    </tr>\n",
       "    <tr>\n",
       "      <th>409</th>\n",
       "      <td>6</td>\n",
       "      <td>0.006311</td>\n",
       "      <td>0.006311</td>\n",
       "      <td>0.005794</td>\n",
       "      <td>0.005794</td>\n",
       "      <td>0.0</td>\n",
       "      <td>0.0</td>\n",
       "      <td>None</td>\n",
       "      <td>861</td>\n",
       "    </tr>\n",
       "    <tr>\n",
       "      <th>410</th>\n",
       "      <td>7</td>\n",
       "      <td>0.005877</td>\n",
       "      <td>0.005877</td>\n",
       "      <td>0.005739</td>\n",
       "      <td>0.005739</td>\n",
       "      <td>0.0</td>\n",
       "      <td>0.0</td>\n",
       "      <td>None</td>\n",
       "      <td>1500</td>\n",
       "    </tr>\n",
       "    <tr>\n",
       "      <th>414</th>\n",
       "      <td>12</td>\n",
       "      <td>0.005372</td>\n",
       "      <td>0.005372</td>\n",
       "      <td>0.005534</td>\n",
       "      <td>0.005534</td>\n",
       "      <td>0.0</td>\n",
       "      <td>0.0</td>\n",
       "      <td>None</td>\n",
       "      <td>1158</td>\n",
       "    </tr>\n",
       "    <tr>\n",
       "      <th>415</th>\n",
       "      <td>24</td>\n",
       "      <td>0.004857</td>\n",
       "      <td>0.004857</td>\n",
       "      <td>0.005303</td>\n",
       "      <td>0.005303</td>\n",
       "      <td>0.0</td>\n",
       "      <td>0.0</td>\n",
       "      <td>None</td>\n",
       "      <td>469</td>\n",
       "    </tr>\n",
       "    <tr>\n",
       "      <th>416</th>\n",
       "      <td>48</td>\n",
       "      <td>0.003463</td>\n",
       "      <td>0.003463</td>\n",
       "      <td>0.005487</td>\n",
       "      <td>0.005487</td>\n",
       "      <td>0.0</td>\n",
       "      <td>0.0</td>\n",
       "      <td>None</td>\n",
       "      <td>358</td>\n",
       "    </tr>\n",
       "    <tr>\n",
       "      <th>478</th>\n",
       "      <td>48</td>\n",
       "      <td>0.002493</td>\n",
       "      <td>0.002493</td>\n",
       "      <td>0.007181</td>\n",
       "      <td>0.007181</td>\n",
       "      <td>0.0</td>\n",
       "      <td>0.0</td>\n",
       "      <td>8</td>\n",
       "      <td>657</td>\n",
       "    </tr>\n",
       "    <tr>\n",
       "      <th>479</th>\n",
       "      <td>36</td>\n",
       "      <td>0.004531</td>\n",
       "      <td>0.004531</td>\n",
       "      <td>0.006792</td>\n",
       "      <td>0.006792</td>\n",
       "      <td>0.0</td>\n",
       "      <td>0.0</td>\n",
       "      <td>8</td>\n",
       "      <td>590</td>\n",
       "    </tr>\n",
       "    <tr>\n",
       "      <th>480</th>\n",
       "      <td>24</td>\n",
       "      <td>0.005164</td>\n",
       "      <td>0.005164</td>\n",
       "      <td>0.006758</td>\n",
       "      <td>0.006758</td>\n",
       "      <td>0.0</td>\n",
       "      <td>0.0</td>\n",
       "      <td>8</td>\n",
       "      <td>711</td>\n",
       "    </tr>\n",
       "    <tr>\n",
       "      <th>481</th>\n",
       "      <td>12</td>\n",
       "      <td>0.005986</td>\n",
       "      <td>0.005986</td>\n",
       "      <td>0.006419</td>\n",
       "      <td>0.006419</td>\n",
       "      <td>0.0</td>\n",
       "      <td>0.0</td>\n",
       "      <td>8</td>\n",
       "      <td>1118</td>\n",
       "    </tr>\n",
       "    <tr>\n",
       "      <th>482</th>\n",
       "      <td>7</td>\n",
       "      <td>0.006285</td>\n",
       "      <td>0.006285</td>\n",
       "      <td>0.006317</td>\n",
       "      <td>0.006317</td>\n",
       "      <td>0.0</td>\n",
       "      <td>0.0</td>\n",
       "      <td>8</td>\n",
       "      <td>1727</td>\n",
       "    </tr>\n",
       "    <tr>\n",
       "      <th>483</th>\n",
       "      <td>5</td>\n",
       "      <td>0.006514</td>\n",
       "      <td>0.006514</td>\n",
       "      <td>0.006468</td>\n",
       "      <td>0.006468</td>\n",
       "      <td>0.0</td>\n",
       "      <td>0.0</td>\n",
       "      <td>8</td>\n",
       "      <td>2068</td>\n",
       "    </tr>\n",
       "    <tr>\n",
       "      <th>484</th>\n",
       "      <td>3</td>\n",
       "      <td>0.007518</td>\n",
       "      <td>0.007518</td>\n",
       "      <td>0.007072</td>\n",
       "      <td>0.007072</td>\n",
       "      <td>0.0</td>\n",
       "      <td>0.0</td>\n",
       "      <td>8</td>\n",
       "      <td>1278</td>\n",
       "    </tr>\n",
       "  </tbody>\n",
       "</table>\n",
       "</div>"
      ],
      "text/plain": [
       "     hidden_state      loss       mse  val_loss   val_mse  accuracy  \\\n",
       "405             2  0.007591  0.007591  0.006967  0.006967       0.0   \n",
       "406             3  0.007151  0.007151  0.006712  0.006712       0.0   \n",
       "407             4  0.006655  0.006655  0.006222  0.006222       0.0   \n",
       "408             5  0.006475  0.006475  0.006049  0.006049       0.0   \n",
       "409             6  0.006311  0.006311  0.005794  0.005794       0.0   \n",
       "410             7  0.005877  0.005877  0.005739  0.005739       0.0   \n",
       "414            12  0.005372  0.005372  0.005534  0.005534       0.0   \n",
       "415            24  0.004857  0.004857  0.005303  0.005303       0.0   \n",
       "416            48  0.003463  0.003463  0.005487  0.005487       0.0   \n",
       "478            48  0.002493  0.002493  0.007181  0.007181       0.0   \n",
       "479            36  0.004531  0.004531  0.006792  0.006792       0.0   \n",
       "480            24  0.005164  0.005164  0.006758  0.006758       0.0   \n",
       "481            12  0.005986  0.005986  0.006419  0.006419       0.0   \n",
       "482             7  0.006285  0.006285  0.006317  0.006317       0.0   \n",
       "483             5  0.006514  0.006514  0.006468  0.006468       0.0   \n",
       "484             3  0.007518  0.007518  0.007072  0.007072       0.0   \n",
       "\n",
       "     val_accuracy nth_example  epochs  \n",
       "405           0.0        None     820  \n",
       "406           0.0        None     511  \n",
       "407           0.0        None    1447  \n",
       "408           0.0        None     797  \n",
       "409           0.0        None     861  \n",
       "410           0.0        None    1500  \n",
       "414           0.0        None    1158  \n",
       "415           0.0        None     469  \n",
       "416           0.0        None     358  \n",
       "478           0.0           8     657  \n",
       "479           0.0           8     590  \n",
       "480           0.0           8     711  \n",
       "481           0.0           8    1118  \n",
       "482           0.0           8    1727  \n",
       "483           0.0           8    2068  \n",
       "484           0.0           8    1278  "
      ]
     },
     "execution_count": 63,
     "metadata": {},
     "output_type": "execute_result"
    }
   ],
   "source": [
    "### set up\n",
    "id_list = [i for i in range(478, 485)] + [i for i in range(405, 417)] # runs of interest\n",
    "x = 'hidden_state' # hyperparameter of interest - will be plotted on x axis\n",
    "split = 'nth_example'\n",
    "plot_sacred_runs(id_list, x, split, return_df=True, plot_params={'title': 'Effect of Data Restriction on Optimum Hidden State Size', 'ylabel': 'val MSE'})"
   ]
  },
  {
   "cell_type": "markdown",
   "metadata": {},
   "source": [
    "### base key with/without\n",
    "485 uses base key (I thought that was turned on anyway!). Does worse!"
   ]
  },
  {
   "cell_type": "code",
   "execution_count": 66,
   "metadata": {},
   "outputs": [
    {
     "data": {
      "application/vnd.jupyter.widget-view+json": {
       "model_id": "4cfc518bb30145aa8fd8fa8cbcf61547",
       "version_major": 2,
       "version_minor": 0
      },
      "text/plain": [
       "VBox(children=(Checkbox(value=False, description='loss'), Checkbox(value=False, description='accuracy'), Check…"
      ]
     },
     "metadata": {},
     "output_type": "display_data"
    }
   ],
   "source": [
    "id_list = [415, 485] # runs of interest\n",
    "x = 'use_base_key' # hyperparameter of interest - will be plotted on x axis\n",
    "df = plot_sacred_training(id_list, x,epoch_lim=800, return_df=True, plot_params={'title': 'The Effect of \"Use Base Key\"',\n",
    "                                                            'ylim': [0.0045, 0.019]})"
   ]
  },
  {
   "cell_type": "markdown",
   "metadata": {},
   "source": [
    "### testing three layer models\n"
   ]
  },
  {
   "cell_type": "code",
   "execution_count": 69,
   "metadata": {},
   "outputs": [
    {
     "data": {
      "application/vnd.jupyter.widget-view+json": {
       "model_id": "899f2ba96d3744cda60684969fcdc144",
       "version_major": 2,
       "version_minor": 0
      },
      "text/plain": [
       "VBox(children=(Checkbox(value=False, description='loss'), Checkbox(value=False, description='mse'), Checkbox(v…"
      ]
     },
     "metadata": {},
     "output_type": "display_data"
    },
    {
     "data": {
      "text/html": [
       "<div>\n",
       "<style scoped>\n",
       "    .dataframe tbody tr th:only-of-type {\n",
       "        vertical-align: middle;\n",
       "    }\n",
       "\n",
       "    .dataframe tbody tr th {\n",
       "        vertical-align: top;\n",
       "    }\n",
       "\n",
       "    .dataframe thead th {\n",
       "        text-align: right;\n",
       "    }\n",
       "</style>\n",
       "<table border=\"1\" class=\"dataframe\">\n",
       "  <thead>\n",
       "    <tr style=\"text-align: right;\">\n",
       "      <th></th>\n",
       "      <th>use_base_key</th>\n",
       "      <th>loss</th>\n",
       "      <th>mse</th>\n",
       "      <th>val_loss</th>\n",
       "      <th>val_mse</th>\n",
       "      <th>accuracy</th>\n",
       "      <th>val_accuracy</th>\n",
       "      <th>epochs</th>\n",
       "    </tr>\n",
       "  </thead>\n",
       "  <tbody>\n",
       "    <tr>\n",
       "      <th>415</th>\n",
       "      <td>False</td>\n",
       "      <td>0.004857</td>\n",
       "      <td>0.004857</td>\n",
       "      <td>0.005303</td>\n",
       "      <td>0.005303</td>\n",
       "      <td>0.0</td>\n",
       "      <td>0.0</td>\n",
       "      <td>469</td>\n",
       "    </tr>\n",
       "    <tr>\n",
       "      <th>485</th>\n",
       "      <td>True</td>\n",
       "      <td>0.004942</td>\n",
       "      <td>0.004942</td>\n",
       "      <td>0.005634</td>\n",
       "      <td>0.005634</td>\n",
       "      <td>0.0</td>\n",
       "      <td>0.0</td>\n",
       "      <td>433</td>\n",
       "    </tr>\n",
       "  </tbody>\n",
       "</table>\n",
       "</div>"
      ],
      "text/plain": [
       "     use_base_key      loss       mse  val_loss   val_mse  accuracy  \\\n",
       "415         False  0.004857  0.004857  0.005303  0.005303       0.0   \n",
       "485          True  0.004942  0.004942  0.005634  0.005634       0.0   \n",
       "\n",
       "     val_accuracy  epochs  \n",
       "415           0.0     469  \n",
       "485           0.0     433  "
      ]
     },
     "execution_count": 69,
     "metadata": {},
     "output_type": "execute_result"
    }
   ],
   "source": [
    "id_list = [415, 485] # runs of interest\n",
    "x = 'use_base_key' # hyperparameter of interest - will be plotted on x axis\n",
    "plot_sacred_runs(id_list, x,return_df=True, plot_params={'title': 'The Effect of \"Use Base Key\"',\n",
    "                                                            'ylim': [0.0045, 0.019]})"
   ]
  },
  {
   "cell_type": "code",
   "execution_count": 118,
   "metadata": {},
   "outputs": [
    {
     "data": {
      "application/vnd.jupyter.widget-view+json": {
       "model_id": "40b009509475495e99ba64e0a13fdb9c",
       "version_major": 2,
       "version_minor": 0
      },
      "text/plain": [
       "VBox(children=(Checkbox(value=False, description='loss'), Checkbox(value=False, description='mse'), Checkbox(v…"
      ]
     },
     "metadata": {},
     "output_type": "display_data"
    }
   ],
   "source": [
    "### set up\n",
    "id_list = [i for i in range(488, 494)] + [i for i in range(405, 417)] # runs of interest\n",
    "x = 'hidden_state' # hyperparameter of interest - will be plotted on x axis\n",
    "split = 'bi_encoder_lstms'\n",
    "plot_sacred_runs(id_list, x, split)"
   ]
  }
 ],
 "metadata": {
  "kernelspec": {
   "display_name": "Python 3",
   "language": "python",
   "name": "python3"
  },
  "language_info": {
   "codemirror_mode": {
    "name": "ipython",
    "version": 3
   },
   "file_extension": ".py",
   "mimetype": "text/x-python",
   "name": "python",
   "nbconvert_exporter": "python",
   "pygments_lexer": "ipython3",
   "version": "3.8.3"
  }
 },
 "nbformat": 4,
 "nbformat_minor": 4
}
